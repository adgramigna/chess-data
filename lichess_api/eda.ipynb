{
 "cells": [
  {
   "cell_type": "code",
   "execution_count": null,
   "metadata": {},
   "outputs": [],
   "source": [
    "# import logging\n",
    "# import sys\n",
    "# import utils.general as general_util\n",
    "# from dotenv import load_dotenv\n",
    "import time\n",
    "import polars as pl\n",
    "import utils.parsing_helpers.tournament_parser as tournament_parser\n",
    "import utils.parsing_helpers.leaderboard_parser as leaderboard_parser\n",
    "import utils.parsing_helpers.rounds_parser as rounds_parser\n",
    "import utils.parsing_helpers.pgn_parser as pgn_parser\n",
    "import utils.general as general_util\n",
    "\n",
    "pl.Config(tbl_width_chars=100)\n",
    "pl.Config(tbl_rows=20)\n",
    "pl.Config.set_fmt_str_lengths(100)"
   ]
  },
  {
   "cell_type": "code",
   "execution_count": null,
   "metadata": {},
   "outputs": [],
   "source": [
    "tournament_id = \"wEuVhT9c\"\n",
    "# tournament_id = \"lZo9v6Nu\""
   ]
  },
  {
   "cell_type": "code",
   "execution_count": null,
   "metadata": {},
   "outputs": [],
   "source": [
    "def get_rounds_detail_dfs(\n",
    "    row, tournament_slug, lichess_rounds_detail_df_all, lichess_players_df_all\n",
    "):\n",
    "    rounds_response, rounds_api_endpoint = general_util.call_lichess_broadcasts_api(\n",
    "        \"round\",\n",
    "        broadcast_tournament_slug=tournament_slug,\n",
    "        broadcast_round_slug=row[\"slug\"],\n",
    "        broadcast_round_id=row[\"round_id\"],\n",
    "    )\n",
    "    rounds_json = rounds_response.json()\n",
    "    lichess_rounds_detail_df, lichess_players_df = (\n",
    "        rounds_parser.create_broadcast_rounds_detail_dataframes(\n",
    "            rounds_json, row[\"round_id\"]\n",
    "        )\n",
    "    )\n",
    "\n",
    "    lichess_rounds_detail_df_all = pl.concat(\n",
    "        [lichess_rounds_detail_df_all, lichess_rounds_detail_df]\n",
    "    )\n",
    "    lichess_players_df_all = pl.concat([lichess_players_df_all, lichess_players_df])\n",
    "\n",
    "    return lichess_rounds_detail_df_all, lichess_players_df_all"
   ]
  },
  {
   "cell_type": "code",
   "execution_count": null,
   "metadata": {},
   "outputs": [],
   "source": [
    "def get_pgn_dfs(row, lichess_game_headers_df_all, lichess_moves_df_all):\n",
    "    round_pgn_response, round_pgn_endpoint = general_util.call_lichess_broadcasts_api(\n",
    "        \"pgn\", broadcast_round_id=row[\"round_id\"]\n",
    "    )\n",
    "    round_pgn_lists = round_pgn_response.text.split(\"\\n\\n\\n\")\n",
    "\n",
    "    for game_pgn_string in round_pgn_lists:\n",
    "        if game_pgn_string == \"\":\n",
    "            continue\n",
    "        lichess_game_headers_df, lichess_moves_df = pgn_parser.create_pgn_dataframes(\n",
    "            game_pgn_string, row[\"round_id\"]\n",
    "        )\n",
    "\n",
    "        lichess_game_headers_df_all = pl.concat(\n",
    "            [lichess_game_headers_df_all, lichess_game_headers_df]\n",
    "        )\n",
    "        lichess_moves_df_all = pl.concat([lichess_moves_df_all, lichess_moves_df])\n",
    "\n",
    "    return lichess_game_headers_df_all, lichess_moves_df_all"
   ]
  },
  {
   "cell_type": "code",
   "execution_count": null,
   "metadata": {},
   "outputs": [],
   "source": [
    "# tournament_id = \"wEuVhT9c\"\n",
    "tournament_response, tournament_api_endpoint = general_util.call_lichess_broadcasts_api(\n",
    "    \"tournament\", broadcast_tournament_id=tournament_id\n",
    ")\n",
    "tournament_json = tournament_response.json()\n",
    "lichess_tour_df, lichess_rounds_outline_df = (\n",
    "    tournament_parser.create_broadcast_base_dataframes(tournament_json, tournament_id)\n",
    ")\n",
    "\n",
    "tournament_slug = lichess_tour_df.select(\"slug\").item()\n",
    "has_leaderboard = lichess_tour_df.select(\"leaderboard\").item()"
   ]
  },
  {
   "cell_type": "code",
   "execution_count": null,
   "metadata": {},
   "outputs": [],
   "source": [
    "if has_leaderboard:\n",
    "    leaderboard_response, leaderboard_api_endpoint = (\n",
    "        general_util.call_lichess_broadcasts_api(\n",
    "            \"leaderboard\", broadcast_tournament_id=tournament_id\n",
    "        )\n",
    "    )\n",
    "    leaderboard_json = leaderboard_response.json()\n",
    "    lichess_leaderboard_df = leaderboard_parser.create_broadcast_leaderboard_dataframe(\n",
    "        leaderboard_json, tournament_id\n",
    "    )[0]\n",
    "else:\n",
    "    lichess_leaderboard_df = pl.DataFrame()"
   ]
  },
  {
   "cell_type": "code",
   "execution_count": null,
   "metadata": {},
   "outputs": [],
   "source": [
    "lichess_game_headers_df_all = pl.DataFrame()\n",
    "lichess_moves_df_all = pl.DataFrame()\n",
    "lichess_rounds_detail_df_all = pl.DataFrame()\n",
    "lichess_players_df_all = pl.DataFrame()\n",
    "for row in lichess_rounds_outline_df.iter_rows(named=True):\n",
    "    # Can't parse games which haven't started\n",
    "    if time.time() * 1_000 < row[\"starts_at\"]:  # starts_at is in millis\n",
    "        continue\n",
    "    print(row[\"slug\"])\n",
    "\n",
    "    lichess_rounds_detail_df_all, lichess_players_df_all = get_rounds_detail_dfs(\n",
    "        row, tournament_slug, lichess_rounds_detail_df_all, lichess_players_df_all\n",
    "    )\n",
    "\n",
    "    lichess_game_headers_df_all, lichess_moves_df_all = get_pgn_dfs(\n",
    "        row, lichess_game_headers_df_all, lichess_moves_df_all\n",
    "    )"
   ]
  },
  {
   "cell_type": "code",
   "execution_count": null,
   "metadata": {},
   "outputs": [],
   "source": [
    "lichess_tour_df"
   ]
  },
  {
   "cell_type": "code",
   "execution_count": null,
   "metadata": {},
   "outputs": [],
   "source": [
    "lichess_rounds_outline_df"
   ]
  },
  {
   "cell_type": "code",
   "execution_count": null,
   "metadata": {},
   "outputs": [],
   "source": [
    "lichess_leaderboard_df"
   ]
  },
  {
   "cell_type": "code",
   "execution_count": null,
   "metadata": {},
   "outputs": [],
   "source": [
    "lichess_rounds_detail_df_all"
   ]
  },
  {
   "cell_type": "code",
   "execution_count": null,
   "metadata": {},
   "outputs": [],
   "source": [
    "lichess_players_df_all"
   ]
  },
  {
   "cell_type": "code",
   "execution_count": null,
   "metadata": {},
   "outputs": [],
   "source": [
    "lichess_game_headers_df_all"
   ]
  },
  {
   "cell_type": "code",
   "execution_count": null,
   "metadata": {},
   "outputs": [],
   "source": [
    "lichess_moves_df_all"
   ]
  },
  {
   "cell_type": "code",
   "execution_count": null,
   "metadata": {},
   "outputs": [],
   "source": [
    "# import json\n",
    "# with open(f\"{tournament_id}_8.json\", \"w\") as f:\n",
    "#     json.dump(rounds_json, f)"
   ]
  },
  {
   "cell_type": "code",
   "execution_count": null,
   "metadata": {},
   "outputs": [],
   "source": []
  }
 ],
 "metadata": {
  "kernelspec": {
   "display_name": ".venv",
   "language": "python",
   "name": "python3"
  },
  "language_info": {
   "codemirror_mode": {
    "name": "ipython",
    "version": 3
   },
   "file_extension": ".py",
   "mimetype": "text/x-python",
   "name": "python",
   "nbconvert_exporter": "python",
   "pygments_lexer": "ipython3",
   "version": "3.11.0"
  }
 },
 "nbformat": 4,
 "nbformat_minor": 2
}
