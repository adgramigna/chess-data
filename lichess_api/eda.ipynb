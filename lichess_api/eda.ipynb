{
 "cells": [
  {
   "cell_type": "code",
   "execution_count": 1,
   "metadata": {},
   "outputs": [],
   "source": [
    "# import time\n",
    "# import logging\n",
    "# import sys\n",
    "# import utils.general as general_util\n",
    "# from dotenv import load_dotenv\n",
    "import utils.tournament_helper as tournament_helper"
   ]
  },
  {
   "cell_type": "code",
   "execution_count": 2,
   "metadata": {},
   "outputs": [],
   "source": [
    "tournament_id = \"wEuVhT9c\"\n",
    "tournament_json, tournament_api_endpoint = (\n",
    "    tournament_helper.call_lichess_broadcasts_api(tournament_id)\n",
    ")\n",
    "lichess_tour_df, lichess_rounds_df = tournament_helper.create_broadcast_base_dataframes(\n",
    "    tournament_json, tournament_id\n",
    ")"
   ]
  },
  {
   "cell_type": "code",
   "execution_count": 3,
   "metadata": {},
   "outputs": [
    {
     "data": {
      "text/html": [
       "<div><style>\n",
       ".dataframe > thead > tr,\n",
       ".dataframe > tbody > tr {\n",
       "  text-align: right;\n",
       "  white-space: pre-wrap;\n",
       "}\n",
       "</style>\n",
       "<small>shape: (1, 8)</small><table border=\"1\" class=\"dataframe\"><thead><tr><th>tournament_id</th><th>name</th><th>slug</th><th>created_at</th><th>tier</th><th>image</th><th>url</th><th>leaderboard</th></tr><tr><td>str</td><td>str</td><td>str</td><td>i64</td><td>i64</td><td>str</td><td>str</td><td>bool</td></tr></thead><tbody><tr><td>&quot;wEuVhT9c&quot;</td><td>&quot;FIDE Candidate…</td><td>&quot;fide-candidate…</td><td>1710759962579</td><td>5</td><td>&quot;https://image.…</td><td>&quot;https://liches…</td><td>true</td></tr></tbody></table></div>"
      ],
      "text/plain": [
       "shape: (1, 8)\n",
       "┌─────────────┬────────────┬────────────┬────────────┬──────┬────────────┬────────────┬────────────┐\n",
       "│ tournament_ ┆ name       ┆ slug       ┆ created_at ┆ tier ┆ image      ┆ url        ┆ leaderboar │\n",
       "│ id          ┆ ---        ┆ ---        ┆ ---        ┆ ---  ┆ ---        ┆ ---        ┆ d          │\n",
       "│ ---         ┆ str        ┆ str        ┆ i64        ┆ i64  ┆ str        ┆ str        ┆ ---        │\n",
       "│ str         ┆            ┆            ┆            ┆      ┆            ┆            ┆ bool       │\n",
       "╞═════════════╪════════════╪════════════╪════════════╪══════╪════════════╪════════════╪════════════╡\n",
       "│ wEuVhT9c    ┆ FIDE       ┆ fide-candi ┆ 1710759962 ┆ 5    ┆ https://im ┆ https://li ┆ true       │\n",
       "│             ┆ Candidates ┆ dates-2024 ┆ 579        ┆      ┆ age.liches ┆ chess.org/ ┆            │\n",
       "│             ┆ 2024 |     ┆ --open     ┆            ┆      ┆ s1.org/dis ┆ broadcast/ ┆            │\n",
       "│             ┆ Open       ┆            ┆            ┆      ┆ pl…        ┆ fi…        ┆            │\n",
       "└─────────────┴────────────┴────────────┴────────────┴──────┴────────────┴────────────┴────────────┘"
      ]
     },
     "execution_count": 3,
     "metadata": {},
     "output_type": "execute_result"
    }
   ],
   "source": [
    "lichess_tour_df"
   ]
  },
  {
   "cell_type": "code",
   "execution_count": 4,
   "metadata": {},
   "outputs": [
    {
     "data": {
      "text/html": [
       "<div><style>\n",
       ".dataframe > thead > tr,\n",
       ".dataframe > tbody > tr {\n",
       "  text-align: right;\n",
       "  white-space: pre-wrap;\n",
       "}\n",
       "</style>\n",
       "<small>shape: (15, 8)</small><table border=\"1\" class=\"dataframe\"><thead><tr><th>round_id</th><th>tournament_id</th><th>name</th><th>slug</th><th>created_at</th><th>starts_at</th><th>url</th><th>finished</th></tr><tr><td>str</td><td>str</td><td>str</td><td>str</td><td>i64</td><td>i64</td><td>str</td><td>bool</td></tr></thead><tbody><tr><td>&quot;AjqSsU1w&quot;</td><td>&quot;wEuVhT9c&quot;</td><td>&quot;Round 1&quot;</td><td>&quot;round-1&quot;</td><td>1710760290779</td><td>1712256300000</td><td>&quot;https://liches…</td><td>true</td></tr><tr><td>&quot;GenKIJ8A&quot;</td><td>&quot;wEuVhT9c&quot;</td><td>&quot;Round 2&quot;</td><td>&quot;round-2&quot;</td><td>1711530504000</td><td>1712342700000</td><td>&quot;https://liches…</td><td>true</td></tr><tr><td>&quot;xQgaUu2y&quot;</td><td>&quot;wEuVhT9c&quot;</td><td>&quot;Round 3&quot;</td><td>&quot;round-3&quot;</td><td>1711530516119</td><td>1712429100000</td><td>&quot;https://liches…</td><td>true</td></tr><tr><td>&quot;CPS9dENa&quot;</td><td>&quot;wEuVhT9c&quot;</td><td>&quot;Round 4&quot;</td><td>&quot;round-4&quot;</td><td>1711530526339</td><td>1712515500000</td><td>&quot;https://liches…</td><td>true</td></tr><tr><td>&quot;MDiLWQ5M&quot;</td><td>&quot;wEuVhT9c&quot;</td><td>&quot;Round 5&quot;</td><td>&quot;round-5&quot;</td><td>1711530555192</td><td>1712688300000</td><td>&quot;https://liches…</td><td>true</td></tr><tr><td>&hellip;</td><td>&hellip;</td><td>&hellip;</td><td>&hellip;</td><td>&hellip;</td><td>&hellip;</td><td>&hellip;</td><td>&hellip;</td></tr><tr><td>&quot;46ohJ8Qt&quot;</td><td>&quot;wEuVhT9c&quot;</td><td>&quot;Round 11&quot;</td><td>&quot;round-11&quot;</td><td>1711530640577</td><td>1713379500000</td><td>&quot;https://liches…</td><td>null</td></tr><tr><td>&quot;eJghIBZe&quot;</td><td>&quot;wEuVhT9c&quot;</td><td>&quot;Round 12&quot;</td><td>&quot;round-12&quot;</td><td>1711530651369</td><td>1713465900000</td><td>&quot;https://liches…</td><td>null</td></tr><tr><td>&quot;Dc0DQMaQ&quot;</td><td>&quot;wEuVhT9c&quot;</td><td>&quot;Round 13&quot;</td><td>&quot;round-13&quot;</td><td>1711530662643</td><td>1713638700000</td><td>&quot;https://liches…</td><td>null</td></tr><tr><td>&quot;S4zisI6M&quot;</td><td>&quot;wEuVhT9c&quot;</td><td>&quot;Round 14&quot;</td><td>&quot;round-14&quot;</td><td>1711530673602</td><td>1713725100000</td><td>&quot;https://liches…</td><td>null</td></tr><tr><td>&quot;teHLc5Sz&quot;</td><td>&quot;wEuVhT9c&quot;</td><td>&quot;Tiebreaks&quot;</td><td>&quot;tiebreaks&quot;</td><td>1712126655484</td><td>1713811500000</td><td>&quot;https://liches…</td><td>null</td></tr></tbody></table></div>"
      ],
      "text/plain": [
       "shape: (15, 8)\n",
       "┌──────────┬─────────────┬───────────┬───────────┬────────────┬────────────┬────────────┬──────────┐\n",
       "│ round_id ┆ tournament_ ┆ name      ┆ slug      ┆ created_at ┆ starts_at  ┆ url        ┆ finished │\n",
       "│ ---      ┆ id          ┆ ---       ┆ ---       ┆ ---        ┆ ---        ┆ ---        ┆ ---      │\n",
       "│ str      ┆ ---         ┆ str       ┆ str       ┆ i64        ┆ i64        ┆ str        ┆ bool     │\n",
       "│          ┆ str         ┆           ┆           ┆            ┆            ┆            ┆          │\n",
       "╞══════════╪═════════════╪═══════════╪═══════════╪════════════╪════════════╪════════════╪══════════╡\n",
       "│ AjqSsU1w ┆ wEuVhT9c    ┆ Round 1   ┆ round-1   ┆ 1710760290 ┆ 1712256300 ┆ https://li ┆ true     │\n",
       "│          ┆             ┆           ┆           ┆ 779        ┆ 000        ┆ chess.org/ ┆          │\n",
       "│          ┆             ┆           ┆           ┆            ┆            ┆ broadcast/ ┆          │\n",
       "│          ┆             ┆           ┆           ┆            ┆            ┆ fi…        ┆          │\n",
       "│ GenKIJ8A ┆ wEuVhT9c    ┆ Round 2   ┆ round-2   ┆ 1711530504 ┆ 1712342700 ┆ https://li ┆ true     │\n",
       "│          ┆             ┆           ┆           ┆ 000        ┆ 000        ┆ chess.org/ ┆          │\n",
       "│          ┆             ┆           ┆           ┆            ┆            ┆ broadcast/ ┆          │\n",
       "│          ┆             ┆           ┆           ┆            ┆            ┆ fi…        ┆          │\n",
       "│ xQgaUu2y ┆ wEuVhT9c    ┆ Round 3   ┆ round-3   ┆ 1711530516 ┆ 1712429100 ┆ https://li ┆ true     │\n",
       "│          ┆             ┆           ┆           ┆ 119        ┆ 000        ┆ chess.org/ ┆          │\n",
       "│          ┆             ┆           ┆           ┆            ┆            ┆ broadcast/ ┆          │\n",
       "│          ┆             ┆           ┆           ┆            ┆            ┆ fi…        ┆          │\n",
       "│ CPS9dENa ┆ wEuVhT9c    ┆ Round 4   ┆ round-4   ┆ 1711530526 ┆ 1712515500 ┆ https://li ┆ true     │\n",
       "│          ┆             ┆           ┆           ┆ 339        ┆ 000        ┆ chess.org/ ┆          │\n",
       "│          ┆             ┆           ┆           ┆            ┆            ┆ broadcast/ ┆          │\n",
       "│          ┆             ┆           ┆           ┆            ┆            ┆ fi…        ┆          │\n",
       "│ MDiLWQ5M ┆ wEuVhT9c    ┆ Round 5   ┆ round-5   ┆ 1711530555 ┆ 1712688300 ┆ https://li ┆ true     │\n",
       "│          ┆             ┆           ┆           ┆ 192        ┆ 000        ┆ chess.org/ ┆          │\n",
       "│          ┆             ┆           ┆           ┆            ┆            ┆ broadcast/ ┆          │\n",
       "│          ┆             ┆           ┆           ┆            ┆            ┆ fi…        ┆          │\n",
       "│ …        ┆ …           ┆ …         ┆ …         ┆ …          ┆ …          ┆ …          ┆ …        │\n",
       "│ 46ohJ8Qt ┆ wEuVhT9c    ┆ Round 11  ┆ round-11  ┆ 1711530640 ┆ 1713379500 ┆ https://li ┆ null     │\n",
       "│          ┆             ┆           ┆           ┆ 577        ┆ 000        ┆ chess.org/ ┆          │\n",
       "│          ┆             ┆           ┆           ┆            ┆            ┆ broadcast/ ┆          │\n",
       "│          ┆             ┆           ┆           ┆            ┆            ┆ fi…        ┆          │\n",
       "│ eJghIBZe ┆ wEuVhT9c    ┆ Round 12  ┆ round-12  ┆ 1711530651 ┆ 1713465900 ┆ https://li ┆ null     │\n",
       "│          ┆             ┆           ┆           ┆ 369        ┆ 000        ┆ chess.org/ ┆          │\n",
       "│          ┆             ┆           ┆           ┆            ┆            ┆ broadcast/ ┆          │\n",
       "│          ┆             ┆           ┆           ┆            ┆            ┆ fi…        ┆          │\n",
       "│ Dc0DQMaQ ┆ wEuVhT9c    ┆ Round 13  ┆ round-13  ┆ 1711530662 ┆ 1713638700 ┆ https://li ┆ null     │\n",
       "│          ┆             ┆           ┆           ┆ 643        ┆ 000        ┆ chess.org/ ┆          │\n",
       "│          ┆             ┆           ┆           ┆            ┆            ┆ broadcast/ ┆          │\n",
       "│          ┆             ┆           ┆           ┆            ┆            ┆ fi…        ┆          │\n",
       "│ S4zisI6M ┆ wEuVhT9c    ┆ Round 14  ┆ round-14  ┆ 1711530673 ┆ 1713725100 ┆ https://li ┆ null     │\n",
       "│          ┆             ┆           ┆           ┆ 602        ┆ 000        ┆ chess.org/ ┆          │\n",
       "│          ┆             ┆           ┆           ┆            ┆            ┆ broadcast/ ┆          │\n",
       "│          ┆             ┆           ┆           ┆            ┆            ┆ fi…        ┆          │\n",
       "│ teHLc5Sz ┆ wEuVhT9c    ┆ Tiebreaks ┆ tiebreaks ┆ 1712126655 ┆ 1713811500 ┆ https://li ┆ null     │\n",
       "│          ┆             ┆           ┆           ┆ 484        ┆ 000        ┆ chess.org/ ┆          │\n",
       "│          ┆             ┆           ┆           ┆            ┆            ┆ broadcast/ ┆          │\n",
       "│          ┆             ┆           ┆           ┆            ┆            ┆ fi…        ┆          │\n",
       "└──────────┴─────────────┴───────────┴───────────┴────────────┴────────────┴────────────┴──────────┘"
      ]
     },
     "execution_count": 4,
     "metadata": {},
     "output_type": "execute_result"
    }
   ],
   "source": [
    "lichess_rounds_df"
   ]
  },
  {
   "cell_type": "code",
   "execution_count": 5,
   "metadata": {},
   "outputs": [
    {
     "ename": "ValidationError",
     "evalue": "Expected `object`, got `array`",
     "output_type": "error",
     "traceback": [
      "\u001b[0;31m---------------------------------------------------------------------------\u001b[0m",
      "\u001b[0;31mValidationError\u001b[0m                           Traceback (most recent call last)",
      "Cell \u001b[0;32mIn[5], line 4\u001b[0m\n\u001b[1;32m      1\u001b[0m leaderboard_json, leaderboard_api_endpoint \u001b[38;5;241m=\u001b[39m (\n\u001b[1;32m      2\u001b[0m     tournament_helper\u001b[38;5;241m.\u001b[39mcall_lichess_broadcasts_api(tournament_id, leaderboard\u001b[38;5;241m=\u001b[39m\u001b[38;5;28;01mTrue\u001b[39;00m)\n\u001b[1;32m      3\u001b[0m )\n\u001b[0;32m----> 4\u001b[0m leaderboard_df \u001b[38;5;241m=\u001b[39m \u001b[43mtournament_helper\u001b[49m\u001b[38;5;241;43m.\u001b[39;49m\u001b[43mcreate_broadcast_leaderboard_dataframe\u001b[49m\u001b[43m(\u001b[49m\n\u001b[1;32m      5\u001b[0m \u001b[43m    \u001b[49m\u001b[43mleaderboard_json\u001b[49m\u001b[43m,\u001b[49m\u001b[43m \u001b[49m\u001b[43mtournament_id\u001b[49m\n\u001b[1;32m      6\u001b[0m \u001b[43m)\u001b[49m\n",
      "File \u001b[0;32m~/Developer/Personal/chess-data/lichess_api/utils/tournament_helper.py:100\u001b[0m, in \u001b[0;36mcreate_broadcast_leaderboard_dataframe\u001b[0;34m(json_data, tournament_id)\u001b[0m\n\u001b[1;32m     99\u001b[0m \u001b[38;5;28;01mdef\u001b[39;00m \u001b[38;5;21mcreate_broadcast_leaderboard_dataframe\u001b[39m(json_data, tournament_id):\n\u001b[0;32m--> 100\u001b[0m     lichess_tournament_leaderboard \u001b[38;5;241m=\u001b[39m \u001b[43mdecode\u001b[49m\u001b[43m(\u001b[49m\u001b[43mjson\u001b[49m\u001b[38;5;241;43m.\u001b[39;49m\u001b[43mdumps\u001b[49m\u001b[43m(\u001b[49m\u001b[43mjson_data\u001b[49m\u001b[43m)\u001b[49m\u001b[43m,\u001b[49m\u001b[43m \u001b[49m\u001b[38;5;28;43mtype\u001b[39;49m\u001b[38;5;241;43m=\u001b[39;49m\u001b[43mLeaderboard\u001b[49m\u001b[43m)\u001b[49m\n\u001b[1;32m    101\u001b[0m     lichess_tournament_leaderboard_final \u001b[38;5;241m=\u001b[39m parse_broadcast_tournament_base(\n\u001b[1;32m    102\u001b[0m         lichess_tournament_leaderboard, tournament_id\n\u001b[1;32m    103\u001b[0m     )\n\u001b[1;32m    105\u001b[0m     lichess_leaderboard_df \u001b[38;5;241m=\u001b[39m pl\u001b[38;5;241m.\u001b[39mDataFrame(lichess_tournament_leaderboard_final)\n",
      "\u001b[0;31mValidationError\u001b[0m: Expected `object`, got `array`"
     ]
    }
   ],
   "source": [
    "leaderboard_json, leaderboard_api_endpoint = (\n",
    "    tournament_helper.call_lichess_broadcasts_api(tournament_id, leaderboard=True)\n",
    ")\n",
    "leaderboard_df = tournament_helper.create_broadcast_leaderboard_dataframe(\n",
    "    leaderboard_json, tournament_id\n",
    ")"
   ]
  },
  {
   "cell_type": "code",
   "execution_count": 12,
   "metadata": {},
   "outputs": [
    {
     "data": {
      "text/plain": [
       "[{'name': 'Nepomniachtchi, Ian',\n",
       "  'score': 4.5,\n",
       "  'played': 7,\n",
       "  'rating': 2758,\n",
       "  'title': 'GM',\n",
       "  'fideId': 4168119,\n",
       "  'fed': 'RUS'},\n",
       " {'name': 'Caruana, Fabiano',\n",
       "  'score': 4,\n",
       "  'played': 7,\n",
       "  'rating': 2803,\n",
       "  'title': 'GM',\n",
       "  'fideId': 2020009,\n",
       "  'fed': 'USA'},\n",
       " {'name': 'Praggnanandhaa R',\n",
       "  'score': 4,\n",
       "  'played': 7,\n",
       "  'rating': 2747,\n",
       "  'title': 'GM',\n",
       "  'fideId': 25059530,\n",
       "  'fed': 'IND'},\n",
       " {'name': 'Gukesh D',\n",
       "  'score': 4,\n",
       "  'played': 7,\n",
       "  'rating': 2743,\n",
       "  'title': 'GM',\n",
       "  'fideId': 46616543,\n",
       "  'fed': 'IND'},\n",
       " {'name': 'Nakamura, Hikaru',\n",
       "  'score': 3.5,\n",
       "  'played': 7,\n",
       "  'rating': 2789,\n",
       "  'title': 'GM',\n",
       "  'fideId': 2016192,\n",
       "  'fed': 'USA'},\n",
       " {'name': 'Vidit, Santosh Gujrathi',\n",
       "  'score': 3.5,\n",
       "  'played': 7,\n",
       "  'rating': 2727,\n",
       "  'title': 'GM',\n",
       "  'fideId': 5029465,\n",
       "  'fed': 'IND'},\n",
       " {'name': 'Firouzja, Alireza',\n",
       "  'score': 2.5,\n",
       "  'played': 7,\n",
       "  'rating': 2760,\n",
       "  'title': 'GM',\n",
       "  'fideId': 12573981,\n",
       "  'fed': 'FRA'},\n",
       " {'name': 'Abasov, Nijat',\n",
       "  'score': 2,\n",
       "  'played': 7,\n",
       "  'rating': 2632,\n",
       "  'title': 'GM',\n",
       "  'fideId': 13402960,\n",
       "  'fed': 'AZE'}]"
      ]
     },
     "execution_count": 12,
     "metadata": {},
     "output_type": "execute_result"
    }
   ],
   "source": [
    "leaderboard_json"
   ]
  },
  {
   "cell_type": "code",
   "execution_count": 13,
   "metadata": {},
   "outputs": [],
   "source": [
    "# tournament_helper.call_lichess_broadcasts_api(tournament_id, round_info=[\"japan-youth-chess-championship-2024\", \"round-1\", \"i0QWBTTi\"])"
   ]
  },
  {
   "cell_type": "code",
   "execution_count": null,
   "metadata": {},
   "outputs": [],
   "source": []
  },
  {
   "cell_type": "code",
   "execution_count": null,
   "metadata": {},
   "outputs": [],
   "source": []
  },
  {
   "cell_type": "code",
   "execution_count": null,
   "metadata": {},
   "outputs": [],
   "source": []
  },
  {
   "cell_type": "code",
   "execution_count": 34,
   "metadata": {},
   "outputs": [],
   "source": [
    "# with open(\"data.json\", \"w\") as f:\n",
    "#     json.dump(tournament_json, f)"
   ]
  },
  {
   "cell_type": "code",
   "execution_count": null,
   "metadata": {},
   "outputs": [],
   "source": []
  }
 ],
 "metadata": {
  "kernelspec": {
   "display_name": ".venv",
   "language": "python",
   "name": "python3"
  },
  "language_info": {
   "codemirror_mode": {
    "name": "ipython",
    "version": 3
   },
   "file_extension": ".py",
   "mimetype": "text/x-python",
   "name": "python",
   "nbconvert_exporter": "python",
   "pygments_lexer": "ipython3",
   "version": "3.11.0"
  }
 },
 "nbformat": 4,
 "nbformat_minor": 2
}
