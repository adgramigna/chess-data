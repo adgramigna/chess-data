{
 "cells": [
  {
   "cell_type": "code",
   "execution_count": 36,
   "metadata": {},
   "outputs": [
    {
     "data": {
      "text/plain": [
       "True"
      ]
     },
     "execution_count": 36,
     "metadata": {},
     "output_type": "execute_result"
    }
   ],
   "source": [
    "import requests\n",
    "import polars as pl\n",
    "import json\n",
    "import os\n",
    "from dotenv import load_dotenv\n",
    "from classes import Tour, Round\n",
    "from msgspec.json import decode\n",
    "\n",
    "load_dotenv()"
   ]
  },
  {
   "cell_type": "code",
   "execution_count": 37,
   "metadata": {},
   "outputs": [],
   "source": [
    "def call_lichess_broadcasts_api(broadcast_tournament_id):\n",
    "    headers = {\n",
    "        \"Content-Type\": \"application/json\",\n",
    "        \"X-Api-Key\": os.environ.get(\"LICHESS_API_KEY\"),\n",
    "    }\n",
    "\n",
    "    lichess_broadcast_endpoint = (\n",
    "        f\"https://lichess.org/api/broadcast/{broadcast_tournament_id}\"\n",
    "    )\n",
    "\n",
    "    response = requests.get(lichess_broadcast_endpoint, headers=headers)\n",
    "\n",
    "    # return response\n",
    "\n",
    "    result_json = response.json()\n",
    "\n",
    "    return result_json, lichess_broadcast_endpoint"
   ]
  },
  {
   "cell_type": "code",
   "execution_count": 38,
   "metadata": {},
   "outputs": [],
   "source": [
    "tournament_id = \"wEuVhT9c\""
   ]
  },
  {
   "cell_type": "code",
   "execution_count": 39,
   "metadata": {},
   "outputs": [],
   "source": [
    "tournament_json, api_endpoint = call_lichess_broadcasts_api(tournament_id)"
   ]
  },
  {
   "cell_type": "code",
   "execution_count": 32,
   "metadata": {},
   "outputs": [],
   "source": [
    "def create_broadcast_base_dataframes(json_data, tournament_id):\n",
    "    lichess_tour = decode(json.dumps(json_data[\"tour\"]), type=Tour)\n",
    "    lichess_rounds = decode(json.dumps(json_data[\"rounds\"]), type=list[Round])\n",
    "\n",
    "    lichess_tour_final, lichess_rounds_final = parse_broadcast_tournament_base(\n",
    "        lichess_tour, lichess_rounds, tournament_id\n",
    "    )\n",
    "\n",
    "    lichess_tour_df = pl.DataFrame(lichess_tour_final)\n",
    "    lichess_rounds_df = pl.DataFrame(lichess_rounds_final)\n",
    "    # if len(job_location_df) > 0:\n",
    "    #     job_location_df = job_location_df.with_columns(\n",
    "    #         pl.col(\"placement\").cast(pl.Int16)\n",
    "    #     )\n",
    "\n",
    "    # return [job_outline_df, job_location_df]\n",
    "\n",
    "    return lichess_tour_df, lichess_rounds_df"
   ]
  },
  {
   "cell_type": "code",
   "execution_count": 33,
   "metadata": {},
   "outputs": [],
   "source": [
    "lichess_tour_df, lichess_rounds_df = create_broadcast_base_dataframes(\n",
    "    tournament_json, tournament_id\n",
    ")"
   ]
  },
  {
   "cell_type": "code",
   "execution_count": 27,
   "metadata": {},
   "outputs": [],
   "source": [
    "def parse_broadcast_tournament_base(tour_data, rounds_data, tournament_id):\n",
    "    tour_json = {}\n",
    "    tour_json[\"tournament_id\"] = tour_data.id\n",
    "    tour_json[\"name\"] = tour_data.name\n",
    "    tour_json[\"slug\"] = tour_data.slug\n",
    "    tour_json[\"created_at\"] = tour_data.createdAt\n",
    "    tour_json[\"tier\"] = tour_data.tier\n",
    "    tour_json[\"image\"] = tour_data.image\n",
    "    tour_json[\"url\"] = tour_data.url\n",
    "    tour_json[\"leaderboard\"] = tour_data.leaderboard\n",
    "\n",
    "    rounds_json = []\n",
    "    for i, chess_round in enumerate(rounds_data):\n",
    "        round_json_record = {}\n",
    "        round_json_record[\"round_id\"] = chess_round.id\n",
    "        round_json_record[\"tournament_id\"] = tournament_id\n",
    "        round_json_record[\"name\"] = chess_round.name\n",
    "        round_json_record[\"slug\"] = chess_round.slug\n",
    "        round_json_record[\"created_at\"] = chess_round.createdAt\n",
    "        round_json_record[\"starts_at\"] = chess_round.startsAt\n",
    "        round_json_record[\"url\"] = chess_round.url\n",
    "        round_json_record[\"finished\"] = chess_round.finished\n",
    "\n",
    "        #     try:\n",
    "        #         job_outline_json_record[\"address_region\"] = (\n",
    "        #             job_outline.address.postalAddress.addressRegion\n",
    "        #         )\n",
    "        #         job_outline_json_record[\"address_country\"] = (\n",
    "        #             job_outline.address.postalAddress.addressCountry\n",
    "        #         )\n",
    "        #         job_outline_json_record[\"address_locality\"] = (\n",
    "        #             job_outline.address.postalAddress.addressLocality\n",
    "        #         )\n",
    "        #     except AttributeError:\n",
    "        #         job_outline_json_record[\"address_region\"] = None\n",
    "        #         job_outline_json_record[\"address_country\"] = None\n",
    "        #         job_outline_json_record[\"address_locality\"] = None\n",
    "\n",
    "        rounds_json.append(round_json_record)\n",
    "\n",
    "    #         all_job_locations_json.append(job_location_json_record)\n",
    "\n",
    "    return tour_json, rounds_json"
   ]
  },
  {
   "cell_type": "code",
   "execution_count": 28,
   "metadata": {},
   "outputs": [
    {
     "data": {
      "text/plain": [
       "({'tournament_id': 'wEuVhT9c',\n",
       "  'name': 'FIDE Candidates 2024 | Open',\n",
       "  'slug': 'fide-candidates-2024--open',\n",
       "  'created_at': 1710759962579,\n",
       "  'tier': 5,\n",
       "  'image': 'https://image.lichess1.org/display?h=400&op=thumbnail&path=loepare:relay:wEuVhT9c:UzQX0Wlo.jpg&w=800&sig=a02fbde968e0095d83e48a6055c16254ee5aa331',\n",
       "  'url': 'https://lichess.org/broadcast/fide-candidates-2024--open/wEuVhT9c',\n",
       "  'leaderboard': True},\n",
       " [{'round_id': 'AjqSsU1w',\n",
       "   'tournament_id': 'wEuVhT9c',\n",
       "   'name': 'Round 1',\n",
       "   'slug': 'round-1',\n",
       "   'created_at': 1710760290779,\n",
       "   'starts_at': 1712256300000,\n",
       "   'url': 'https://lichess.org/broadcast/fide-candidates-2024--open/round-1/AjqSsU1w',\n",
       "   'finished': True},\n",
       "  {'round_id': 'GenKIJ8A',\n",
       "   'tournament_id': 'wEuVhT9c',\n",
       "   'name': 'Round 2',\n",
       "   'slug': 'round-2',\n",
       "   'created_at': 1711530504000,\n",
       "   'starts_at': 1712342700000,\n",
       "   'url': 'https://lichess.org/broadcast/fide-candidates-2024--open/round-2/GenKIJ8A',\n",
       "   'finished': True},\n",
       "  {'round_id': 'xQgaUu2y',\n",
       "   'tournament_id': 'wEuVhT9c',\n",
       "   'name': 'Round 3',\n",
       "   'slug': 'round-3',\n",
       "   'created_at': 1711530516119,\n",
       "   'starts_at': 1712429100000,\n",
       "   'url': 'https://lichess.org/broadcast/fide-candidates-2024--open/round-3/xQgaUu2y',\n",
       "   'finished': True},\n",
       "  {'round_id': 'CPS9dENa',\n",
       "   'tournament_id': 'wEuVhT9c',\n",
       "   'name': 'Round 4',\n",
       "   'slug': 'round-4',\n",
       "   'created_at': 1711530526339,\n",
       "   'starts_at': 1712515500000,\n",
       "   'url': 'https://lichess.org/broadcast/fide-candidates-2024--open/round-4/CPS9dENa',\n",
       "   'finished': True},\n",
       "  {'round_id': 'MDiLWQ5M',\n",
       "   'tournament_id': 'wEuVhT9c',\n",
       "   'name': 'Round 5',\n",
       "   'slug': 'round-5',\n",
       "   'created_at': 1711530555192,\n",
       "   'starts_at': 1712688300000,\n",
       "   'url': 'https://lichess.org/broadcast/fide-candidates-2024--open/round-5/MDiLWQ5M',\n",
       "   'finished': True},\n",
       "  {'round_id': 'kPqEUBZJ',\n",
       "   'tournament_id': 'wEuVhT9c',\n",
       "   'name': 'Round 6',\n",
       "   'slug': 'round-6',\n",
       "   'created_at': 1711530566963,\n",
       "   'starts_at': 1712774700000,\n",
       "   'url': 'https://lichess.org/broadcast/fide-candidates-2024--open/round-6/kPqEUBZJ',\n",
       "   'finished': True},\n",
       "  {'round_id': 'X9LGGQoT',\n",
       "   'tournament_id': 'wEuVhT9c',\n",
       "   'name': 'Round 7',\n",
       "   'slug': 'round-7',\n",
       "   'created_at': 1711530578504,\n",
       "   'starts_at': 1712861100000,\n",
       "   'url': 'https://lichess.org/broadcast/fide-candidates-2024--open/round-7/X9LGGQoT',\n",
       "   'finished': True},\n",
       "  {'round_id': 'nUycmG6L',\n",
       "   'tournament_id': 'wEuVhT9c',\n",
       "   'name': 'Round 8',\n",
       "   'slug': 'round-8',\n",
       "   'created_at': 1711530594895,\n",
       "   'starts_at': 1713033900000,\n",
       "   'url': 'https://lichess.org/broadcast/fide-candidates-2024--open/round-8/nUycmG6L',\n",
       "   'finished': None},\n",
       "  {'round_id': 'A7SWsX0x',\n",
       "   'tournament_id': 'wEuVhT9c',\n",
       "   'name': 'Round 9',\n",
       "   'slug': 'round-9',\n",
       "   'created_at': 1711530611752,\n",
       "   'starts_at': 1713120300000,\n",
       "   'url': 'https://lichess.org/broadcast/fide-candidates-2024--open/round-9/A7SWsX0x',\n",
       "   'finished': None},\n",
       "  {'round_id': 'vfqUR38R',\n",
       "   'tournament_id': 'wEuVhT9c',\n",
       "   'name': 'Round 10',\n",
       "   'slug': 'round-10',\n",
       "   'created_at': 1711530626686,\n",
       "   'starts_at': 1713206700000,\n",
       "   'url': 'https://lichess.org/broadcast/fide-candidates-2024--open/round-10/vfqUR38R',\n",
       "   'finished': None},\n",
       "  {'round_id': '46ohJ8Qt',\n",
       "   'tournament_id': 'wEuVhT9c',\n",
       "   'name': 'Round 11',\n",
       "   'slug': 'round-11',\n",
       "   'created_at': 1711530640577,\n",
       "   'starts_at': 1713379500000,\n",
       "   'url': 'https://lichess.org/broadcast/fide-candidates-2024--open/round-11/46ohJ8Qt',\n",
       "   'finished': None},\n",
       "  {'round_id': 'eJghIBZe',\n",
       "   'tournament_id': 'wEuVhT9c',\n",
       "   'name': 'Round 12',\n",
       "   'slug': 'round-12',\n",
       "   'created_at': 1711530651369,\n",
       "   'starts_at': 1713465900000,\n",
       "   'url': 'https://lichess.org/broadcast/fide-candidates-2024--open/round-12/eJghIBZe',\n",
       "   'finished': None},\n",
       "  {'round_id': 'Dc0DQMaQ',\n",
       "   'tournament_id': 'wEuVhT9c',\n",
       "   'name': 'Round 13',\n",
       "   'slug': 'round-13',\n",
       "   'created_at': 1711530662643,\n",
       "   'starts_at': 1713638700000,\n",
       "   'url': 'https://lichess.org/broadcast/fide-candidates-2024--open/round-13/Dc0DQMaQ',\n",
       "   'finished': None},\n",
       "  {'round_id': 'S4zisI6M',\n",
       "   'tournament_id': 'wEuVhT9c',\n",
       "   'name': 'Round 14',\n",
       "   'slug': 'round-14',\n",
       "   'created_at': 1711530673602,\n",
       "   'starts_at': 1713725100000,\n",
       "   'url': 'https://lichess.org/broadcast/fide-candidates-2024--open/round-14/S4zisI6M',\n",
       "   'finished': None},\n",
       "  {'round_id': 'teHLc5Sz',\n",
       "   'tournament_id': 'wEuVhT9c',\n",
       "   'name': 'Tiebreaks',\n",
       "   'slug': 'tiebreaks',\n",
       "   'created_at': 1712126655484,\n",
       "   'starts_at': 1713811500000,\n",
       "   'url': 'https://lichess.org/broadcast/fide-candidates-2024--open/tiebreaks/teHLc5Sz',\n",
       "   'finished': None}])"
      ]
     },
     "execution_count": 28,
     "metadata": {},
     "output_type": "execute_result"
    }
   ],
   "source": [
    "parse_broadcast_tournament_base(lichess_tour, lichess_rounds, tournament_id)"
   ]
  },
  {
   "cell_type": "code",
   "execution_count": 35,
   "metadata": {},
   "outputs": [
    {
     "data": {
      "text/plain": [
       "{'id': 'wEuVhT9c',\n",
       " 'name': 'FIDE Candidates 2024 | Open',\n",
       " 'slug': 'fide-candidates-2024--open',\n",
       " 'description': 'April 4th - 22nd | 8-player double round-robin | Classical time control',\n",
       " 'createdAt': 1710759962579,\n",
       " 'tier': 5,\n",
       " 'image': 'https://image.lichess1.org/display?h=400&op=thumbnail&path=loepare:relay:wEuVhT9c:UzQX0Wlo.jpg&w=800&sig=a02fbde968e0095d83e48a6055c16254ee5aa331',\n",
       " 'markup': '<p>The <strong>FIDE Candidates Tournament 2024</strong> takes place from the <strong>4th to the 22nd of April in Toronto, Canada</strong>, deciding the challenger of World Champion Ding Liren in the FIDE World Chess Championship 2024. The tournament is played as a <strong>double round-robin with 14 rounds</strong>.</p>\\n<p>Time control is <strong>120 minutes for 40 moves, followed by 30 minutes for the rest of the game, with a 30-second increment from move 41.</strong></p>\\n<p>Players cannot draw by agreement before Black\\'s 40th move. In the case of a tie for first place after 14 rounds, a playoff is played.</p>\\n<p>The total prize fund is <strong>€500,000</strong>.</p>\\n<p><a href=\"https://candidates2024.fide.com/\" rel=\"nofollow noopener noreferrer\">Official Website</a> | <a href=\"https://candidates2024.fide.com/players\" rel=\"nofollow noopener noreferrer\">Players</a> | <a href=\"https://candidates2024.fide.com/pairings\" rel=\"nofollow noopener noreferrer\">Pairings</a> | <a href=\"https://candidates2024.fide.com/crosstable#open\" rel=\"nofollow noopener noreferrer\">Results</a></p>\\n<hr />\\n<p><strong>Event coverage</strong></p>\\n<p><a href=\"https://twitch.tv/lichessdotorg\" rel=\"nofollow noopener noreferrer\">Twitch</a> | <a href=\"https://www.youtube.com/@lichessdotorg/streams\" rel=\"nofollow noopener noreferrer\">YouTube</a></p>\\n',\n",
       " 'url': 'https://lichess.org/broadcast/fide-candidates-2024--open/wEuVhT9c',\n",
       " 'leaderboard': True}"
      ]
     },
     "execution_count": 35,
     "metadata": {},
     "output_type": "execute_result"
    }
   ],
   "source": [
    "tournament_json[\"tour\"]"
   ]
  },
  {
   "cell_type": "code",
   "execution_count": null,
   "metadata": {},
   "outputs": [],
   "source": []
  },
  {
   "cell_type": "code",
   "execution_count": null,
   "metadata": {},
   "outputs": [],
   "source": []
  },
  {
   "cell_type": "code",
   "execution_count": null,
   "metadata": {},
   "outputs": [],
   "source": []
  },
  {
   "cell_type": "code",
   "execution_count": 34,
   "metadata": {},
   "outputs": [],
   "source": [
    "with open(\"data.json\", \"w\") as f:\n",
    "    json.dump(tournament_json, f)"
   ]
  },
  {
   "cell_type": "code",
   "execution_count": null,
   "metadata": {},
   "outputs": [],
   "source": []
  }
 ],
 "metadata": {
  "kernelspec": {
   "display_name": ".venv",
   "language": "python",
   "name": "python3"
  },
  "language_info": {
   "codemirror_mode": {
    "name": "ipython",
    "version": 3
   },
   "file_extension": ".py",
   "mimetype": "text/x-python",
   "name": "python",
   "nbconvert_exporter": "python",
   "pygments_lexer": "ipython3",
   "version": "3.11.0"
  }
 },
 "nbformat": 4,
 "nbformat_minor": 2
}
