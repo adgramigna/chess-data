{
 "cells": [
  {
   "cell_type": "code",
   "execution_count": 7,
   "metadata": {},
   "outputs": [
    {
     "data": {
      "text/plain": [
       "<polars.config.Config at 0x10f251c50>"
      ]
     },
     "execution_count": 7,
     "metadata": {},
     "output_type": "execute_result"
    }
   ],
   "source": [
    "# import time\n",
    "# import logging\n",
    "# import sys\n",
    "# import utils.general as general_util\n",
    "# from dotenv import load_dotenv\n",
    "import polars as pl\n",
    "import utils.parsing_helpers.tournament_parser as tournament_parser\n",
    "import utils.parsing_helpers.leaderboard_parser as leaderboard_parser\n",
    "import utils.general as general_util\n",
    "\n",
    "pl.Config(tbl_width_chars=100)\n",
    "pl.Config(tbl_rows=100)"
   ]
  },
  {
   "cell_type": "code",
   "execution_count": 14,
   "metadata": {},
   "outputs": [],
   "source": [
    "tournament_id = \"wEuVhT9c\"\n",
    "tournament_json, tournament_api_endpoint = general_util.call_lichess_broadcasts_api(\n",
    "    tournament_id\n",
    ")\n",
    "lichess_tour_df, lichess_rounds_outline_df = (\n",
    "    tournament_parser.create_broadcast_base_dataframes(tournament_json, tournament_id)\n",
    ")\n",
    "\n",
    "tour_slug = lichess_tour_df.select(\"slug\").item()\n",
    "has_leaderboard = lichess_tour_df.select(\"leaderboard\").item()\n",
    "lichess_rounds_outline_df = lichess_rounds_outline_df.with_columns(\n",
    "    tournament_slug=pl.lit(tour_slug)\n",
    ")"
   ]
  },
  {
   "cell_type": "code",
   "execution_count": 9,
   "metadata": {},
   "outputs": [],
   "source": [
    "if has_leaderboard:\n",
    "    leaderboard_json, leaderboard_api_endpoint = (\n",
    "        general_util.call_lichess_broadcasts_api(tournament_id, leaderboard=True)\n",
    "    )\n",
    "    lichess_leaderboard_df = leaderboard_parser.create_broadcast_leaderboard_dataframe(\n",
    "        leaderboard_json, tournament_id\n",
    "    )[0]"
   ]
  },
  {
   "cell_type": "code",
   "execution_count": 10,
   "metadata": {},
   "outputs": [
    {
     "data": {
      "text/html": [
       "<div><style>\n",
       ".dataframe > thead > tr,\n",
       ".dataframe > tbody > tr {\n",
       "  text-align: right;\n",
       "  white-space: pre-wrap;\n",
       "}\n",
       "</style>\n",
       "<small>shape: (15, 10)</small><table border=\"1\" class=\"dataframe\"><thead><tr><th>round_id</th><th>tournament_id</th><th>name</th><th>slug</th><th>created_at</th><th>starts_at</th><th>url</th><th>finished</th><th>tournament_slug</th><th>rounds_info</th></tr><tr><td>str</td><td>str</td><td>str</td><td>str</td><td>i64</td><td>i64</td><td>str</td><td>bool</td><td>str</td><td>list[str]</td></tr></thead><tbody><tr><td>&quot;AjqSsU1w&quot;</td><td>&quot;wEuVhT9c&quot;</td><td>&quot;Round 1&quot;</td><td>&quot;round-1&quot;</td><td>1710760290779</td><td>1712256300000</td><td>&quot;https://liches…</td><td>true</td><td>&quot;fide-candidate…</td><td>[&quot;fide-candidates-2024--open&quot;, &quot;round-1&quot;, &quot;AjqSsU1w&quot;]</td></tr><tr><td>&quot;GenKIJ8A&quot;</td><td>&quot;wEuVhT9c&quot;</td><td>&quot;Round 2&quot;</td><td>&quot;round-2&quot;</td><td>1711530504000</td><td>1712342700000</td><td>&quot;https://liches…</td><td>true</td><td>&quot;fide-candidate…</td><td>[&quot;fide-candidates-2024--open&quot;, &quot;round-2&quot;, &quot;GenKIJ8A&quot;]</td></tr><tr><td>&quot;xQgaUu2y&quot;</td><td>&quot;wEuVhT9c&quot;</td><td>&quot;Round 3&quot;</td><td>&quot;round-3&quot;</td><td>1711530516119</td><td>1712429100000</td><td>&quot;https://liches…</td><td>true</td><td>&quot;fide-candidate…</td><td>[&quot;fide-candidates-2024--open&quot;, &quot;round-3&quot;, &quot;xQgaUu2y&quot;]</td></tr><tr><td>&quot;CPS9dENa&quot;</td><td>&quot;wEuVhT9c&quot;</td><td>&quot;Round 4&quot;</td><td>&quot;round-4&quot;</td><td>1711530526339</td><td>1712515500000</td><td>&quot;https://liches…</td><td>true</td><td>&quot;fide-candidate…</td><td>[&quot;fide-candidates-2024--open&quot;, &quot;round-4&quot;, &quot;CPS9dENa&quot;]</td></tr><tr><td>&quot;MDiLWQ5M&quot;</td><td>&quot;wEuVhT9c&quot;</td><td>&quot;Round 5&quot;</td><td>&quot;round-5&quot;</td><td>1711530555192</td><td>1712688300000</td><td>&quot;https://liches…</td><td>true</td><td>&quot;fide-candidate…</td><td>[&quot;fide-candidates-2024--open&quot;, &quot;round-5&quot;, &quot;MDiLWQ5M&quot;]</td></tr><tr><td>&quot;kPqEUBZJ&quot;</td><td>&quot;wEuVhT9c&quot;</td><td>&quot;Round 6&quot;</td><td>&quot;round-6&quot;</td><td>1711530566963</td><td>1712774700000</td><td>&quot;https://liches…</td><td>true</td><td>&quot;fide-candidate…</td><td>[&quot;fide-candidates-2024--open&quot;, &quot;round-6&quot;, &quot;kPqEUBZJ&quot;]</td></tr><tr><td>&quot;X9LGGQoT&quot;</td><td>&quot;wEuVhT9c&quot;</td><td>&quot;Round 7&quot;</td><td>&quot;round-7&quot;</td><td>1711530578504</td><td>1712861100000</td><td>&quot;https://liches…</td><td>true</td><td>&quot;fide-candidate…</td><td>[&quot;fide-candidates-2024--open&quot;, &quot;round-7&quot;, &quot;X9LGGQoT&quot;]</td></tr><tr><td>&quot;nUycmG6L&quot;</td><td>&quot;wEuVhT9c&quot;</td><td>&quot;Round 8&quot;</td><td>&quot;round-8&quot;</td><td>1711530594895</td><td>1713033900000</td><td>&quot;https://liches…</td><td>true</td><td>&quot;fide-candidate…</td><td>[&quot;fide-candidates-2024--open&quot;, &quot;round-8&quot;, &quot;nUycmG6L&quot;]</td></tr><tr><td>&quot;A7SWsX0x&quot;</td><td>&quot;wEuVhT9c&quot;</td><td>&quot;Round 9&quot;</td><td>&quot;round-9&quot;</td><td>1711530611752</td><td>1713120300000</td><td>&quot;https://liches…</td><td>null</td><td>&quot;fide-candidate…</td><td>[&quot;fide-candidates-2024--open&quot;, &quot;round-9&quot;, &quot;A7SWsX0x&quot;]</td></tr><tr><td>&quot;vfqUR38R&quot;</td><td>&quot;wEuVhT9c&quot;</td><td>&quot;Round 10&quot;</td><td>&quot;round-10&quot;</td><td>1711530626686</td><td>1713206700000</td><td>&quot;https://liches…</td><td>null</td><td>&quot;fide-candidate…</td><td>[&quot;fide-candidates-2024--open&quot;, &quot;round-10&quot;, &quot;vfqUR38R&quot;]</td></tr><tr><td>&quot;46ohJ8Qt&quot;</td><td>&quot;wEuVhT9c&quot;</td><td>&quot;Round 11&quot;</td><td>&quot;round-11&quot;</td><td>1711530640577</td><td>1713379500000</td><td>&quot;https://liches…</td><td>null</td><td>&quot;fide-candidate…</td><td>[&quot;fide-candidates-2024--open&quot;, &quot;round-11&quot;, &quot;46ohJ8Qt&quot;]</td></tr><tr><td>&quot;eJghIBZe&quot;</td><td>&quot;wEuVhT9c&quot;</td><td>&quot;Round 12&quot;</td><td>&quot;round-12&quot;</td><td>1711530651369</td><td>1713465900000</td><td>&quot;https://liches…</td><td>null</td><td>&quot;fide-candidate…</td><td>[&quot;fide-candidates-2024--open&quot;, &quot;round-12&quot;, &quot;eJghIBZe&quot;]</td></tr><tr><td>&quot;Dc0DQMaQ&quot;</td><td>&quot;wEuVhT9c&quot;</td><td>&quot;Round 13&quot;</td><td>&quot;round-13&quot;</td><td>1711530662643</td><td>1713638700000</td><td>&quot;https://liches…</td><td>null</td><td>&quot;fide-candidate…</td><td>[&quot;fide-candidates-2024--open&quot;, &quot;round-13&quot;, &quot;Dc0DQMaQ&quot;]</td></tr><tr><td>&quot;S4zisI6M&quot;</td><td>&quot;wEuVhT9c&quot;</td><td>&quot;Round 14&quot;</td><td>&quot;round-14&quot;</td><td>1711530673602</td><td>1713725100000</td><td>&quot;https://liches…</td><td>null</td><td>&quot;fide-candidate…</td><td>[&quot;fide-candidates-2024--open&quot;, &quot;round-14&quot;, &quot;S4zisI6M&quot;]</td></tr><tr><td>&quot;teHLc5Sz&quot;</td><td>&quot;wEuVhT9c&quot;</td><td>&quot;Tiebreaks&quot;</td><td>&quot;tiebreaks&quot;</td><td>1712126655484</td><td>1713811500000</td><td>&quot;https://liches…</td><td>null</td><td>&quot;fide-candidate…</td><td>[&quot;fide-candidates-2024--open&quot;, &quot;tiebreaks&quot;, &quot;teHLc5Sz&quot;]</td></tr></tbody></table></div>"
      ],
      "text/plain": [
       "shape: (15, 10)\n",
       "┌──────────┬────────────┬───────────┬───────────┬───┬───────────┬──────────┬───────────┬───────────┐\n",
       "│ round_id ┆ tournament ┆ name      ┆ slug      ┆ … ┆ url       ┆ finished ┆ tournamen ┆ rounds_in │\n",
       "│ ---      ┆ _id        ┆ ---       ┆ ---       ┆   ┆ ---       ┆ ---      ┆ t_slug    ┆ fo        │\n",
       "│ str      ┆ ---        ┆ str       ┆ str       ┆   ┆ str       ┆ bool     ┆ ---       ┆ ---       │\n",
       "│          ┆ str        ┆           ┆           ┆   ┆           ┆          ┆ str       ┆ list[str] │\n",
       "╞══════════╪════════════╪═══════════╪═══════════╪═══╪═══════════╪══════════╪═══════════╪═══════════╡\n",
       "│ AjqSsU1w ┆ wEuVhT9c   ┆ Round 1   ┆ round-1   ┆ … ┆ https://l ┆ true     ┆ fide-cand ┆ [\"fide-ca │\n",
       "│          ┆            ┆           ┆           ┆   ┆ ichess.or ┆          ┆ idates-20 ┆ ndidates- │\n",
       "│          ┆            ┆           ┆           ┆   ┆ g/broadca ┆          ┆ 24--open  ┆ 2024--ope │\n",
       "│          ┆            ┆           ┆           ┆   ┆ st/fi…    ┆          ┆           ┆ n\", \"…    │\n",
       "│ GenKIJ8A ┆ wEuVhT9c   ┆ Round 2   ┆ round-2   ┆ … ┆ https://l ┆ true     ┆ fide-cand ┆ [\"fide-ca │\n",
       "│          ┆            ┆           ┆           ┆   ┆ ichess.or ┆          ┆ idates-20 ┆ ndidates- │\n",
       "│          ┆            ┆           ┆           ┆   ┆ g/broadca ┆          ┆ 24--open  ┆ 2024--ope │\n",
       "│          ┆            ┆           ┆           ┆   ┆ st/fi…    ┆          ┆           ┆ n\", \"…    │\n",
       "│ xQgaUu2y ┆ wEuVhT9c   ┆ Round 3   ┆ round-3   ┆ … ┆ https://l ┆ true     ┆ fide-cand ┆ [\"fide-ca │\n",
       "│          ┆            ┆           ┆           ┆   ┆ ichess.or ┆          ┆ idates-20 ┆ ndidates- │\n",
       "│          ┆            ┆           ┆           ┆   ┆ g/broadca ┆          ┆ 24--open  ┆ 2024--ope │\n",
       "│          ┆            ┆           ┆           ┆   ┆ st/fi…    ┆          ┆           ┆ n\", \"…    │\n",
       "│ CPS9dENa ┆ wEuVhT9c   ┆ Round 4   ┆ round-4   ┆ … ┆ https://l ┆ true     ┆ fide-cand ┆ [\"fide-ca │\n",
       "│          ┆            ┆           ┆           ┆   ┆ ichess.or ┆          ┆ idates-20 ┆ ndidates- │\n",
       "│          ┆            ┆           ┆           ┆   ┆ g/broadca ┆          ┆ 24--open  ┆ 2024--ope │\n",
       "│          ┆            ┆           ┆           ┆   ┆ st/fi…    ┆          ┆           ┆ n\", \"…    │\n",
       "│ MDiLWQ5M ┆ wEuVhT9c   ┆ Round 5   ┆ round-5   ┆ … ┆ https://l ┆ true     ┆ fide-cand ┆ [\"fide-ca │\n",
       "│          ┆            ┆           ┆           ┆   ┆ ichess.or ┆          ┆ idates-20 ┆ ndidates- │\n",
       "│          ┆            ┆           ┆           ┆   ┆ g/broadca ┆          ┆ 24--open  ┆ 2024--ope │\n",
       "│          ┆            ┆           ┆           ┆   ┆ st/fi…    ┆          ┆           ┆ n\", \"…    │\n",
       "│ kPqEUBZJ ┆ wEuVhT9c   ┆ Round 6   ┆ round-6   ┆ … ┆ https://l ┆ true     ┆ fide-cand ┆ [\"fide-ca │\n",
       "│          ┆            ┆           ┆           ┆   ┆ ichess.or ┆          ┆ idates-20 ┆ ndidates- │\n",
       "│          ┆            ┆           ┆           ┆   ┆ g/broadca ┆          ┆ 24--open  ┆ 2024--ope │\n",
       "│          ┆            ┆           ┆           ┆   ┆ st/fi…    ┆          ┆           ┆ n\", \"…    │\n",
       "│ X9LGGQoT ┆ wEuVhT9c   ┆ Round 7   ┆ round-7   ┆ … ┆ https://l ┆ true     ┆ fide-cand ┆ [\"fide-ca │\n",
       "│          ┆            ┆           ┆           ┆   ┆ ichess.or ┆          ┆ idates-20 ┆ ndidates- │\n",
       "│          ┆            ┆           ┆           ┆   ┆ g/broadca ┆          ┆ 24--open  ┆ 2024--ope │\n",
       "│          ┆            ┆           ┆           ┆   ┆ st/fi…    ┆          ┆           ┆ n\", \"…    │\n",
       "│ nUycmG6L ┆ wEuVhT9c   ┆ Round 8   ┆ round-8   ┆ … ┆ https://l ┆ true     ┆ fide-cand ┆ [\"fide-ca │\n",
       "│          ┆            ┆           ┆           ┆   ┆ ichess.or ┆          ┆ idates-20 ┆ ndidates- │\n",
       "│          ┆            ┆           ┆           ┆   ┆ g/broadca ┆          ┆ 24--open  ┆ 2024--ope │\n",
       "│          ┆            ┆           ┆           ┆   ┆ st/fi…    ┆          ┆           ┆ n\", \"…    │\n",
       "│ A7SWsX0x ┆ wEuVhT9c   ┆ Round 9   ┆ round-9   ┆ … ┆ https://l ┆ null     ┆ fide-cand ┆ [\"fide-ca │\n",
       "│          ┆            ┆           ┆           ┆   ┆ ichess.or ┆          ┆ idates-20 ┆ ndidates- │\n",
       "│          ┆            ┆           ┆           ┆   ┆ g/broadca ┆          ┆ 24--open  ┆ 2024--ope │\n",
       "│          ┆            ┆           ┆           ┆   ┆ st/fi…    ┆          ┆           ┆ n\", \"…    │\n",
       "│ vfqUR38R ┆ wEuVhT9c   ┆ Round 10  ┆ round-10  ┆ … ┆ https://l ┆ null     ┆ fide-cand ┆ [\"fide-ca │\n",
       "│          ┆            ┆           ┆           ┆   ┆ ichess.or ┆          ┆ idates-20 ┆ ndidates- │\n",
       "│          ┆            ┆           ┆           ┆   ┆ g/broadca ┆          ┆ 24--open  ┆ 2024--ope │\n",
       "│          ┆            ┆           ┆           ┆   ┆ st/fi…    ┆          ┆           ┆ n\", \"…    │\n",
       "│ 46ohJ8Qt ┆ wEuVhT9c   ┆ Round 11  ┆ round-11  ┆ … ┆ https://l ┆ null     ┆ fide-cand ┆ [\"fide-ca │\n",
       "│          ┆            ┆           ┆           ┆   ┆ ichess.or ┆          ┆ idates-20 ┆ ndidates- │\n",
       "│          ┆            ┆           ┆           ┆   ┆ g/broadca ┆          ┆ 24--open  ┆ 2024--ope │\n",
       "│          ┆            ┆           ┆           ┆   ┆ st/fi…    ┆          ┆           ┆ n\", \"…    │\n",
       "│ eJghIBZe ┆ wEuVhT9c   ┆ Round 12  ┆ round-12  ┆ … ┆ https://l ┆ null     ┆ fide-cand ┆ [\"fide-ca │\n",
       "│          ┆            ┆           ┆           ┆   ┆ ichess.or ┆          ┆ idates-20 ┆ ndidates- │\n",
       "│          ┆            ┆           ┆           ┆   ┆ g/broadca ┆          ┆ 24--open  ┆ 2024--ope │\n",
       "│          ┆            ┆           ┆           ┆   ┆ st/fi…    ┆          ┆           ┆ n\", \"…    │\n",
       "│ Dc0DQMaQ ┆ wEuVhT9c   ┆ Round 13  ┆ round-13  ┆ … ┆ https://l ┆ null     ┆ fide-cand ┆ [\"fide-ca │\n",
       "│          ┆            ┆           ┆           ┆   ┆ ichess.or ┆          ┆ idates-20 ┆ ndidates- │\n",
       "│          ┆            ┆           ┆           ┆   ┆ g/broadca ┆          ┆ 24--open  ┆ 2024--ope │\n",
       "│          ┆            ┆           ┆           ┆   ┆ st/fi…    ┆          ┆           ┆ n\", \"…    │\n",
       "│ S4zisI6M ┆ wEuVhT9c   ┆ Round 14  ┆ round-14  ┆ … ┆ https://l ┆ null     ┆ fide-cand ┆ [\"fide-ca │\n",
       "│          ┆            ┆           ┆           ┆   ┆ ichess.or ┆          ┆ idates-20 ┆ ndidates- │\n",
       "│          ┆            ┆           ┆           ┆   ┆ g/broadca ┆          ┆ 24--open  ┆ 2024--ope │\n",
       "│          ┆            ┆           ┆           ┆   ┆ st/fi…    ┆          ┆           ┆ n\", \"…    │\n",
       "│ teHLc5Sz ┆ wEuVhT9c   ┆ Tiebreaks ┆ tiebreaks ┆ … ┆ https://l ┆ null     ┆ fide-cand ┆ [\"fide-ca │\n",
       "│          ┆            ┆           ┆           ┆   ┆ ichess.or ┆          ┆ idates-20 ┆ ndidates- │\n",
       "│          ┆            ┆           ┆           ┆   ┆ g/broadca ┆          ┆ 24--open  ┆ 2024--ope │\n",
       "│          ┆            ┆           ┆           ┆   ┆ st/fi…    ┆          ┆           ┆ n\", \"…    │\n",
       "└──────────┴────────────┴───────────┴───────────┴───┴───────────┴──────────┴───────────┴───────────┘"
      ]
     },
     "execution_count": 10,
     "metadata": {},
     "output_type": "execute_result"
    }
   ],
   "source": [
    "lichess_rounds_outline_df.with_columns(\n",
    "    pl.concat_list([\"tournament_slug\", \"slug\", \"round_id\"]).alias(\"rounds_info\")\n",
    ")"
   ]
  },
  {
   "cell_type": "code",
   "execution_count": 11,
   "metadata": {},
   "outputs": [],
   "source": [
    "rounds_json, rounds_api_endpoint = general_util.call_lichess_broadcasts_api(\n",
    "    tournament_id,\n",
    "    round_info=[\"fide-candidates-2024--open\", \"round-5\", \"MDiLWQ5M\"],\n",
    "    # round_info=[\"fide-candidates-2024--open\", \"round-8\", \"nUycmG6L\"]\n",
    "    # round_info=[\"fide-candidates-2024--open\", \"round-14\", \"S4zisI6M\"]\n",
    ")\n",
    "# lichess_rounds_detail_df = tournament_helper.create_broadcast_leaderboard_dataframe(\n",
    "#     rounds_json, tournament_id\n",
    "# )[0]"
   ]
  },
  {
   "cell_type": "code",
   "execution_count": 12,
   "metadata": {},
   "outputs": [
    {
     "data": {
      "text/plain": [
       "{'round': {'id': 'MDiLWQ5M',\n",
       "  'name': 'Round 5',\n",
       "  'slug': 'round-5',\n",
       "  'createdAt': 1711530555192,\n",
       "  'finished': True,\n",
       "  'startsAt': 1712688300000,\n",
       "  'url': 'https://lichess.org/broadcast/fide-candidates-2024--open/round-5/MDiLWQ5M',\n",
       "  'delay': 0},\n",
       " 'tour': {'id': 'wEuVhT9c',\n",
       "  'name': 'FIDE Candidates 2024 | Open',\n",
       "  'slug': 'fide-candidates-2024--open',\n",
       "  'description': 'April 4th - 22nd | 8-player double round-robin | Classical time control',\n",
       "  'createdAt': 1710759962579,\n",
       "  'tier': 5,\n",
       "  'image': 'https://image.lichess1.org/display?h=400&op=thumbnail&path=loepare:relay:wEuVhT9c:UzQX0Wlo.jpg&w=800&sig=a02fbde968e0095d83e48a6055c16254ee5aa331'},\n",
       " 'study': {'writeable': False},\n",
       " 'games': [{'id': 'MI1pR0AA',\n",
       "   'name': 'Praggnanandhaa R - Nepomniachtchi, Ian',\n",
       "   'fen': '5k2/1R6/1pr5/6p1/p5P1/6K1/P4P2/8 w - - 0 45',\n",
       "   'players': [{'name': 'Praggnanandhaa R',\n",
       "     'title': 'GM',\n",
       "     'rating': 2747,\n",
       "     'clock': 258200,\n",
       "     'fed': 'IND'},\n",
       "    {'name': 'Nepomniachtchi, Ian',\n",
       "     'title': 'GM',\n",
       "     'rating': 2758,\n",
       "     'clock': 167000,\n",
       "     'fed': 'RUS'}],\n",
       "   'lastMove': 'a5a4',\n",
       "   'status': '½-½'},\n",
       "  {'id': 'sX0yzYfd',\n",
       "   'name': 'Firouzja, Alireza - Nakamura, Hikaru',\n",
       "   'fen': '5R2/8/4k2p/p7/P7/3K2pn/8/8 w - - 2 64',\n",
       "   'players': [{'name': 'Firouzja, Alireza',\n",
       "     'title': 'GM',\n",
       "     'rating': 2760,\n",
       "     'clock': 3800,\n",
       "     'fed': 'FRA'},\n",
       "    {'name': 'Nakamura, Hikaru',\n",
       "     'title': 'GM',\n",
       "     'rating': 2789,\n",
       "     'clock': 21400,\n",
       "     'fed': 'USA'}],\n",
       "   'lastMove': 'f5e6',\n",
       "   'status': '0-1'},\n",
       "  {'id': 'Evh9eivY',\n",
       "   'name': 'Gukesh D - Abasov, Nijat',\n",
       "   'fen': '8/3q4/5K2/6Q1/4P2k/8/8/8 b - - 14 87',\n",
       "   'players': [{'name': 'Gukesh D',\n",
       "     'title': 'GM',\n",
       "     'rating': 2743,\n",
       "     'clock': 12500,\n",
       "     'fed': 'IND'},\n",
       "    {'name': 'Abasov, Nijat',\n",
       "     'title': 'GM',\n",
       "     'rating': 2632,\n",
       "     'clock': 14900,\n",
       "     'fed': 'AZE'}],\n",
       "   'lastMove': 'e5g5',\n",
       "   'status': '1-0'},\n",
       "  {'id': 'rPvG2O10',\n",
       "   'name': 'Vidit, Santosh Gujrathi - Caruana, Fabiano',\n",
       "   'fen': '4kr2/4bp2/2p3p1/1pP1Q3/q2BP1PP/8/rP3P2/1K1R3R w - - 11 31',\n",
       "   'players': [{'name': 'Vidit, Santosh Gujrathi',\n",
       "     'title': 'GM',\n",
       "     'rating': 2727,\n",
       "     'clock': 53900,\n",
       "     'fed': 'IND'},\n",
       "    {'name': 'Caruana, Fabiano',\n",
       "     'title': 'GM',\n",
       "     'rating': 2803,\n",
       "     'clock': 63900,\n",
       "     'fed': 'USA'}],\n",
       "   'lastMove': 'd8e7',\n",
       "   'status': '½-½'}]}"
      ]
     },
     "execution_count": 12,
     "metadata": {},
     "output_type": "execute_result"
    }
   ],
   "source": [
    "rounds_json"
   ]
  },
  {
   "cell_type": "code",
   "execution_count": 13,
   "metadata": {},
   "outputs": [
    {
     "data": {
      "text/html": [
       "<div><style>\n",
       ".dataframe > thead > tr,\n",
       ".dataframe > tbody > tr {\n",
       "  text-align: right;\n",
       "  white-space: pre-wrap;\n",
       "}\n",
       "</style>\n",
       "<small>shape: (15, 9)</small><table border=\"1\" class=\"dataframe\"><thead><tr><th>round_id</th><th>tournament_id</th><th>name</th><th>slug</th><th>created_at</th><th>starts_at</th><th>url</th><th>finished</th><th>tournament_slug</th></tr><tr><td>str</td><td>str</td><td>str</td><td>str</td><td>i64</td><td>i64</td><td>str</td><td>bool</td><td>str</td></tr></thead><tbody><tr><td>&quot;AjqSsU1w&quot;</td><td>&quot;wEuVhT9c&quot;</td><td>&quot;Round 1&quot;</td><td>&quot;round-1&quot;</td><td>1710760290779</td><td>1712256300000</td><td>&quot;https://liches…</td><td>true</td><td>&quot;fide-candidate…</td></tr><tr><td>&quot;GenKIJ8A&quot;</td><td>&quot;wEuVhT9c&quot;</td><td>&quot;Round 2&quot;</td><td>&quot;round-2&quot;</td><td>1711530504000</td><td>1712342700000</td><td>&quot;https://liches…</td><td>true</td><td>&quot;fide-candidate…</td></tr><tr><td>&quot;xQgaUu2y&quot;</td><td>&quot;wEuVhT9c&quot;</td><td>&quot;Round 3&quot;</td><td>&quot;round-3&quot;</td><td>1711530516119</td><td>1712429100000</td><td>&quot;https://liches…</td><td>true</td><td>&quot;fide-candidate…</td></tr><tr><td>&quot;CPS9dENa&quot;</td><td>&quot;wEuVhT9c&quot;</td><td>&quot;Round 4&quot;</td><td>&quot;round-4&quot;</td><td>1711530526339</td><td>1712515500000</td><td>&quot;https://liches…</td><td>true</td><td>&quot;fide-candidate…</td></tr><tr><td>&quot;MDiLWQ5M&quot;</td><td>&quot;wEuVhT9c&quot;</td><td>&quot;Round 5&quot;</td><td>&quot;round-5&quot;</td><td>1711530555192</td><td>1712688300000</td><td>&quot;https://liches…</td><td>true</td><td>&quot;fide-candidate…</td></tr><tr><td>&quot;kPqEUBZJ&quot;</td><td>&quot;wEuVhT9c&quot;</td><td>&quot;Round 6&quot;</td><td>&quot;round-6&quot;</td><td>1711530566963</td><td>1712774700000</td><td>&quot;https://liches…</td><td>true</td><td>&quot;fide-candidate…</td></tr><tr><td>&quot;X9LGGQoT&quot;</td><td>&quot;wEuVhT9c&quot;</td><td>&quot;Round 7&quot;</td><td>&quot;round-7&quot;</td><td>1711530578504</td><td>1712861100000</td><td>&quot;https://liches…</td><td>true</td><td>&quot;fide-candidate…</td></tr><tr><td>&quot;nUycmG6L&quot;</td><td>&quot;wEuVhT9c&quot;</td><td>&quot;Round 8&quot;</td><td>&quot;round-8&quot;</td><td>1711530594895</td><td>1713033900000</td><td>&quot;https://liches…</td><td>true</td><td>&quot;fide-candidate…</td></tr><tr><td>&quot;A7SWsX0x&quot;</td><td>&quot;wEuVhT9c&quot;</td><td>&quot;Round 9&quot;</td><td>&quot;round-9&quot;</td><td>1711530611752</td><td>1713120300000</td><td>&quot;https://liches…</td><td>null</td><td>&quot;fide-candidate…</td></tr><tr><td>&quot;vfqUR38R&quot;</td><td>&quot;wEuVhT9c&quot;</td><td>&quot;Round 10&quot;</td><td>&quot;round-10&quot;</td><td>1711530626686</td><td>1713206700000</td><td>&quot;https://liches…</td><td>null</td><td>&quot;fide-candidate…</td></tr><tr><td>&quot;46ohJ8Qt&quot;</td><td>&quot;wEuVhT9c&quot;</td><td>&quot;Round 11&quot;</td><td>&quot;round-11&quot;</td><td>1711530640577</td><td>1713379500000</td><td>&quot;https://liches…</td><td>null</td><td>&quot;fide-candidate…</td></tr><tr><td>&quot;eJghIBZe&quot;</td><td>&quot;wEuVhT9c&quot;</td><td>&quot;Round 12&quot;</td><td>&quot;round-12&quot;</td><td>1711530651369</td><td>1713465900000</td><td>&quot;https://liches…</td><td>null</td><td>&quot;fide-candidate…</td></tr><tr><td>&quot;Dc0DQMaQ&quot;</td><td>&quot;wEuVhT9c&quot;</td><td>&quot;Round 13&quot;</td><td>&quot;round-13&quot;</td><td>1711530662643</td><td>1713638700000</td><td>&quot;https://liches…</td><td>null</td><td>&quot;fide-candidate…</td></tr><tr><td>&quot;S4zisI6M&quot;</td><td>&quot;wEuVhT9c&quot;</td><td>&quot;Round 14&quot;</td><td>&quot;round-14&quot;</td><td>1711530673602</td><td>1713725100000</td><td>&quot;https://liches…</td><td>null</td><td>&quot;fide-candidate…</td></tr><tr><td>&quot;teHLc5Sz&quot;</td><td>&quot;wEuVhT9c&quot;</td><td>&quot;Tiebreaks&quot;</td><td>&quot;tiebreaks&quot;</td><td>1712126655484</td><td>1713811500000</td><td>&quot;https://liches…</td><td>null</td><td>&quot;fide-candidate…</td></tr></tbody></table></div>"
      ],
      "text/plain": [
       "shape: (15, 9)\n",
       "┌──────────┬────────────┬───────────┬───────────┬───┬───────────┬───────────┬──────────┬───────────┐\n",
       "│ round_id ┆ tournament ┆ name      ┆ slug      ┆ … ┆ starts_at ┆ url       ┆ finished ┆ tournamen │\n",
       "│ ---      ┆ _id        ┆ ---       ┆ ---       ┆   ┆ ---       ┆ ---       ┆ ---      ┆ t_slug    │\n",
       "│ str      ┆ ---        ┆ str       ┆ str       ┆   ┆ i64       ┆ str       ┆ bool     ┆ ---       │\n",
       "│          ┆ str        ┆           ┆           ┆   ┆           ┆           ┆          ┆ str       │\n",
       "╞══════════╪════════════╪═══════════╪═══════════╪═══╪═══════════╪═══════════╪══════════╪═══════════╡\n",
       "│ AjqSsU1w ┆ wEuVhT9c   ┆ Round 1   ┆ round-1   ┆ … ┆ 171225630 ┆ https://l ┆ true     ┆ fide-cand │\n",
       "│          ┆            ┆           ┆           ┆   ┆ 0000      ┆ ichess.or ┆          ┆ idates-20 │\n",
       "│          ┆            ┆           ┆           ┆   ┆           ┆ g/broadca ┆          ┆ 24--open  │\n",
       "│          ┆            ┆           ┆           ┆   ┆           ┆ st/fi…    ┆          ┆           │\n",
       "│ GenKIJ8A ┆ wEuVhT9c   ┆ Round 2   ┆ round-2   ┆ … ┆ 171234270 ┆ https://l ┆ true     ┆ fide-cand │\n",
       "│          ┆            ┆           ┆           ┆   ┆ 0000      ┆ ichess.or ┆          ┆ idates-20 │\n",
       "│          ┆            ┆           ┆           ┆   ┆           ┆ g/broadca ┆          ┆ 24--open  │\n",
       "│          ┆            ┆           ┆           ┆   ┆           ┆ st/fi…    ┆          ┆           │\n",
       "│ xQgaUu2y ┆ wEuVhT9c   ┆ Round 3   ┆ round-3   ┆ … ┆ 171242910 ┆ https://l ┆ true     ┆ fide-cand │\n",
       "│          ┆            ┆           ┆           ┆   ┆ 0000      ┆ ichess.or ┆          ┆ idates-20 │\n",
       "│          ┆            ┆           ┆           ┆   ┆           ┆ g/broadca ┆          ┆ 24--open  │\n",
       "│          ┆            ┆           ┆           ┆   ┆           ┆ st/fi…    ┆          ┆           │\n",
       "│ CPS9dENa ┆ wEuVhT9c   ┆ Round 4   ┆ round-4   ┆ … ┆ 171251550 ┆ https://l ┆ true     ┆ fide-cand │\n",
       "│          ┆            ┆           ┆           ┆   ┆ 0000      ┆ ichess.or ┆          ┆ idates-20 │\n",
       "│          ┆            ┆           ┆           ┆   ┆           ┆ g/broadca ┆          ┆ 24--open  │\n",
       "│          ┆            ┆           ┆           ┆   ┆           ┆ st/fi…    ┆          ┆           │\n",
       "│ MDiLWQ5M ┆ wEuVhT9c   ┆ Round 5   ┆ round-5   ┆ … ┆ 171268830 ┆ https://l ┆ true     ┆ fide-cand │\n",
       "│          ┆            ┆           ┆           ┆   ┆ 0000      ┆ ichess.or ┆          ┆ idates-20 │\n",
       "│          ┆            ┆           ┆           ┆   ┆           ┆ g/broadca ┆          ┆ 24--open  │\n",
       "│          ┆            ┆           ┆           ┆   ┆           ┆ st/fi…    ┆          ┆           │\n",
       "│ kPqEUBZJ ┆ wEuVhT9c   ┆ Round 6   ┆ round-6   ┆ … ┆ 171277470 ┆ https://l ┆ true     ┆ fide-cand │\n",
       "│          ┆            ┆           ┆           ┆   ┆ 0000      ┆ ichess.or ┆          ┆ idates-20 │\n",
       "│          ┆            ┆           ┆           ┆   ┆           ┆ g/broadca ┆          ┆ 24--open  │\n",
       "│          ┆            ┆           ┆           ┆   ┆           ┆ st/fi…    ┆          ┆           │\n",
       "│ X9LGGQoT ┆ wEuVhT9c   ┆ Round 7   ┆ round-7   ┆ … ┆ 171286110 ┆ https://l ┆ true     ┆ fide-cand │\n",
       "│          ┆            ┆           ┆           ┆   ┆ 0000      ┆ ichess.or ┆          ┆ idates-20 │\n",
       "│          ┆            ┆           ┆           ┆   ┆           ┆ g/broadca ┆          ┆ 24--open  │\n",
       "│          ┆            ┆           ┆           ┆   ┆           ┆ st/fi…    ┆          ┆           │\n",
       "│ nUycmG6L ┆ wEuVhT9c   ┆ Round 8   ┆ round-8   ┆ … ┆ 171303390 ┆ https://l ┆ true     ┆ fide-cand │\n",
       "│          ┆            ┆           ┆           ┆   ┆ 0000      ┆ ichess.or ┆          ┆ idates-20 │\n",
       "│          ┆            ┆           ┆           ┆   ┆           ┆ g/broadca ┆          ┆ 24--open  │\n",
       "│          ┆            ┆           ┆           ┆   ┆           ┆ st/fi…    ┆          ┆           │\n",
       "│ A7SWsX0x ┆ wEuVhT9c   ┆ Round 9   ┆ round-9   ┆ … ┆ 171312030 ┆ https://l ┆ null     ┆ fide-cand │\n",
       "│          ┆            ┆           ┆           ┆   ┆ 0000      ┆ ichess.or ┆          ┆ idates-20 │\n",
       "│          ┆            ┆           ┆           ┆   ┆           ┆ g/broadca ┆          ┆ 24--open  │\n",
       "│          ┆            ┆           ┆           ┆   ┆           ┆ st/fi…    ┆          ┆           │\n",
       "│ vfqUR38R ┆ wEuVhT9c   ┆ Round 10  ┆ round-10  ┆ … ┆ 171320670 ┆ https://l ┆ null     ┆ fide-cand │\n",
       "│          ┆            ┆           ┆           ┆   ┆ 0000      ┆ ichess.or ┆          ┆ idates-20 │\n",
       "│          ┆            ┆           ┆           ┆   ┆           ┆ g/broadca ┆          ┆ 24--open  │\n",
       "│          ┆            ┆           ┆           ┆   ┆           ┆ st/fi…    ┆          ┆           │\n",
       "│ 46ohJ8Qt ┆ wEuVhT9c   ┆ Round 11  ┆ round-11  ┆ … ┆ 171337950 ┆ https://l ┆ null     ┆ fide-cand │\n",
       "│          ┆            ┆           ┆           ┆   ┆ 0000      ┆ ichess.or ┆          ┆ idates-20 │\n",
       "│          ┆            ┆           ┆           ┆   ┆           ┆ g/broadca ┆          ┆ 24--open  │\n",
       "│          ┆            ┆           ┆           ┆   ┆           ┆ st/fi…    ┆          ┆           │\n",
       "│ eJghIBZe ┆ wEuVhT9c   ┆ Round 12  ┆ round-12  ┆ … ┆ 171346590 ┆ https://l ┆ null     ┆ fide-cand │\n",
       "│          ┆            ┆           ┆           ┆   ┆ 0000      ┆ ichess.or ┆          ┆ idates-20 │\n",
       "│          ┆            ┆           ┆           ┆   ┆           ┆ g/broadca ┆          ┆ 24--open  │\n",
       "│          ┆            ┆           ┆           ┆   ┆           ┆ st/fi…    ┆          ┆           │\n",
       "│ Dc0DQMaQ ┆ wEuVhT9c   ┆ Round 13  ┆ round-13  ┆ … ┆ 171363870 ┆ https://l ┆ null     ┆ fide-cand │\n",
       "│          ┆            ┆           ┆           ┆   ┆ 0000      ┆ ichess.or ┆          ┆ idates-20 │\n",
       "│          ┆            ┆           ┆           ┆   ┆           ┆ g/broadca ┆          ┆ 24--open  │\n",
       "│          ┆            ┆           ┆           ┆   ┆           ┆ st/fi…    ┆          ┆           │\n",
       "│ S4zisI6M ┆ wEuVhT9c   ┆ Round 14  ┆ round-14  ┆ … ┆ 171372510 ┆ https://l ┆ null     ┆ fide-cand │\n",
       "│          ┆            ┆           ┆           ┆   ┆ 0000      ┆ ichess.or ┆          ┆ idates-20 │\n",
       "│          ┆            ┆           ┆           ┆   ┆           ┆ g/broadca ┆          ┆ 24--open  │\n",
       "│          ┆            ┆           ┆           ┆   ┆           ┆ st/fi…    ┆          ┆           │\n",
       "│ teHLc5Sz ┆ wEuVhT9c   ┆ Tiebreaks ┆ tiebreaks ┆ … ┆ 171381150 ┆ https://l ┆ null     ┆ fide-cand │\n",
       "│          ┆            ┆           ┆           ┆   ┆ 0000      ┆ ichess.or ┆          ┆ idates-20 │\n",
       "│          ┆            ┆           ┆           ┆   ┆           ┆ g/broadca ┆          ┆ 24--open  │\n",
       "│          ┆            ┆           ┆           ┆   ┆           ┆ st/fi…    ┆          ┆           │\n",
       "└──────────┴────────────┴───────────┴───────────┴───┴───────────┴───────────┴──────────┴───────────┘"
      ]
     },
     "execution_count": 13,
     "metadata": {},
     "output_type": "execute_result"
    }
   ],
   "source": [
    "lichess_rounds_outline_df"
   ]
  },
  {
   "cell_type": "code",
   "execution_count": null,
   "metadata": {},
   "outputs": [],
   "source": []
  },
  {
   "cell_type": "code",
   "execution_count": 15,
   "metadata": {},
   "outputs": [
    {
     "data": {
      "text/plain": [
       "'fide-candidates-2024--open'"
      ]
     },
     "execution_count": 15,
     "metadata": {},
     "output_type": "execute_result"
    }
   ],
   "source": [
    "tour_slug = lichess_tour_df.select(\"slug\").item()"
   ]
  },
  {
   "cell_type": "code",
   "execution_count": 20,
   "metadata": {},
   "outputs": [
    {
     "data": {
      "text/html": [
       "<div><style>\n",
       ".dataframe > thead > tr,\n",
       ".dataframe > tbody > tr {\n",
       "  text-align: right;\n",
       "  white-space: pre-wrap;\n",
       "}\n",
       "</style>\n",
       "<small>shape: (15, 8)</small><table border=\"1\" class=\"dataframe\"><thead><tr><th>round_id</th><th>tournament_id</th><th>name</th><th>slug</th><th>created_at</th><th>starts_at</th><th>url</th><th>finished</th></tr><tr><td>str</td><td>str</td><td>str</td><td>str</td><td>i64</td><td>i64</td><td>str</td><td>bool</td></tr></thead><tbody><tr><td>&quot;AjqSsU1w&quot;</td><td>&quot;wEuVhT9c&quot;</td><td>&quot;Round 1&quot;</td><td>&quot;round-1&quot;</td><td>1710760290779</td><td>1712256300000</td><td>&quot;https://liches…</td><td>true</td></tr><tr><td>&quot;GenKIJ8A&quot;</td><td>&quot;wEuVhT9c&quot;</td><td>&quot;Round 2&quot;</td><td>&quot;round-2&quot;</td><td>1711530504000</td><td>1712342700000</td><td>&quot;https://liches…</td><td>true</td></tr><tr><td>&quot;xQgaUu2y&quot;</td><td>&quot;wEuVhT9c&quot;</td><td>&quot;Round 3&quot;</td><td>&quot;round-3&quot;</td><td>1711530516119</td><td>1712429100000</td><td>&quot;https://liches…</td><td>true</td></tr><tr><td>&quot;CPS9dENa&quot;</td><td>&quot;wEuVhT9c&quot;</td><td>&quot;Round 4&quot;</td><td>&quot;round-4&quot;</td><td>1711530526339</td><td>1712515500000</td><td>&quot;https://liches…</td><td>true</td></tr><tr><td>&quot;MDiLWQ5M&quot;</td><td>&quot;wEuVhT9c&quot;</td><td>&quot;Round 5&quot;</td><td>&quot;round-5&quot;</td><td>1711530555192</td><td>1712688300000</td><td>&quot;https://liches…</td><td>true</td></tr><tr><td>&hellip;</td><td>&hellip;</td><td>&hellip;</td><td>&hellip;</td><td>&hellip;</td><td>&hellip;</td><td>&hellip;</td><td>&hellip;</td></tr><tr><td>&quot;46ohJ8Qt&quot;</td><td>&quot;wEuVhT9c&quot;</td><td>&quot;Round 11&quot;</td><td>&quot;round-11&quot;</td><td>1711530640577</td><td>1713379500000</td><td>&quot;https://liches…</td><td>null</td></tr><tr><td>&quot;eJghIBZe&quot;</td><td>&quot;wEuVhT9c&quot;</td><td>&quot;Round 12&quot;</td><td>&quot;round-12&quot;</td><td>1711530651369</td><td>1713465900000</td><td>&quot;https://liches…</td><td>null</td></tr><tr><td>&quot;Dc0DQMaQ&quot;</td><td>&quot;wEuVhT9c&quot;</td><td>&quot;Round 13&quot;</td><td>&quot;round-13&quot;</td><td>1711530662643</td><td>1713638700000</td><td>&quot;https://liches…</td><td>null</td></tr><tr><td>&quot;S4zisI6M&quot;</td><td>&quot;wEuVhT9c&quot;</td><td>&quot;Round 14&quot;</td><td>&quot;round-14&quot;</td><td>1711530673602</td><td>1713725100000</td><td>&quot;https://liches…</td><td>null</td></tr><tr><td>&quot;teHLc5Sz&quot;</td><td>&quot;wEuVhT9c&quot;</td><td>&quot;Tiebreaks&quot;</td><td>&quot;tiebreaks&quot;</td><td>1712126655484</td><td>1713811500000</td><td>&quot;https://liches…</td><td>null</td></tr></tbody></table></div>"
      ],
      "text/plain": [
       "shape: (15, 8)\n",
       "┌──────────┬─────────────┬───────────┬───────────┬────────────┬────────────┬────────────┬──────────┐\n",
       "│ round_id ┆ tournament_ ┆ name      ┆ slug      ┆ created_at ┆ starts_at  ┆ url        ┆ finished │\n",
       "│ ---      ┆ id          ┆ ---       ┆ ---       ┆ ---        ┆ ---        ┆ ---        ┆ ---      │\n",
       "│ str      ┆ ---         ┆ str       ┆ str       ┆ i64        ┆ i64        ┆ str        ┆ bool     │\n",
       "│          ┆ str         ┆           ┆           ┆            ┆            ┆            ┆          │\n",
       "╞══════════╪═════════════╪═══════════╪═══════════╪════════════╪════════════╪════════════╪══════════╡\n",
       "│ AjqSsU1w ┆ wEuVhT9c    ┆ Round 1   ┆ round-1   ┆ 1710760290 ┆ 1712256300 ┆ https://li ┆ true     │\n",
       "│          ┆             ┆           ┆           ┆ 779        ┆ 000        ┆ chess.org/ ┆          │\n",
       "│          ┆             ┆           ┆           ┆            ┆            ┆ broadcast/ ┆          │\n",
       "│          ┆             ┆           ┆           ┆            ┆            ┆ fi…        ┆          │\n",
       "│ GenKIJ8A ┆ wEuVhT9c    ┆ Round 2   ┆ round-2   ┆ 1711530504 ┆ 1712342700 ┆ https://li ┆ true     │\n",
       "│          ┆             ┆           ┆           ┆ 000        ┆ 000        ┆ chess.org/ ┆          │\n",
       "│          ┆             ┆           ┆           ┆            ┆            ┆ broadcast/ ┆          │\n",
       "│          ┆             ┆           ┆           ┆            ┆            ┆ fi…        ┆          │\n",
       "│ xQgaUu2y ┆ wEuVhT9c    ┆ Round 3   ┆ round-3   ┆ 1711530516 ┆ 1712429100 ┆ https://li ┆ true     │\n",
       "│          ┆             ┆           ┆           ┆ 119        ┆ 000        ┆ chess.org/ ┆          │\n",
       "│          ┆             ┆           ┆           ┆            ┆            ┆ broadcast/ ┆          │\n",
       "│          ┆             ┆           ┆           ┆            ┆            ┆ fi…        ┆          │\n",
       "│ CPS9dENa ┆ wEuVhT9c    ┆ Round 4   ┆ round-4   ┆ 1711530526 ┆ 1712515500 ┆ https://li ┆ true     │\n",
       "│          ┆             ┆           ┆           ┆ 339        ┆ 000        ┆ chess.org/ ┆          │\n",
       "│          ┆             ┆           ┆           ┆            ┆            ┆ broadcast/ ┆          │\n",
       "│          ┆             ┆           ┆           ┆            ┆            ┆ fi…        ┆          │\n",
       "│ MDiLWQ5M ┆ wEuVhT9c    ┆ Round 5   ┆ round-5   ┆ 1711530555 ┆ 1712688300 ┆ https://li ┆ true     │\n",
       "│          ┆             ┆           ┆           ┆ 192        ┆ 000        ┆ chess.org/ ┆          │\n",
       "│          ┆             ┆           ┆           ┆            ┆            ┆ broadcast/ ┆          │\n",
       "│          ┆             ┆           ┆           ┆            ┆            ┆ fi…        ┆          │\n",
       "│ …        ┆ …           ┆ …         ┆ …         ┆ …          ┆ …          ┆ …          ┆ …        │\n",
       "│ 46ohJ8Qt ┆ wEuVhT9c    ┆ Round 11  ┆ round-11  ┆ 1711530640 ┆ 1713379500 ┆ https://li ┆ null     │\n",
       "│          ┆             ┆           ┆           ┆ 577        ┆ 000        ┆ chess.org/ ┆          │\n",
       "│          ┆             ┆           ┆           ┆            ┆            ┆ broadcast/ ┆          │\n",
       "│          ┆             ┆           ┆           ┆            ┆            ┆ fi…        ┆          │\n",
       "│ eJghIBZe ┆ wEuVhT9c    ┆ Round 12  ┆ round-12  ┆ 1711530651 ┆ 1713465900 ┆ https://li ┆ null     │\n",
       "│          ┆             ┆           ┆           ┆ 369        ┆ 000        ┆ chess.org/ ┆          │\n",
       "│          ┆             ┆           ┆           ┆            ┆            ┆ broadcast/ ┆          │\n",
       "│          ┆             ┆           ┆           ┆            ┆            ┆ fi…        ┆          │\n",
       "│ Dc0DQMaQ ┆ wEuVhT9c    ┆ Round 13  ┆ round-13  ┆ 1711530662 ┆ 1713638700 ┆ https://li ┆ null     │\n",
       "│          ┆             ┆           ┆           ┆ 643        ┆ 000        ┆ chess.org/ ┆          │\n",
       "│          ┆             ┆           ┆           ┆            ┆            ┆ broadcast/ ┆          │\n",
       "│          ┆             ┆           ┆           ┆            ┆            ┆ fi…        ┆          │\n",
       "│ S4zisI6M ┆ wEuVhT9c    ┆ Round 14  ┆ round-14  ┆ 1711530673 ┆ 1713725100 ┆ https://li ┆ null     │\n",
       "│          ┆             ┆           ┆           ┆ 602        ┆ 000        ┆ chess.org/ ┆          │\n",
       "│          ┆             ┆           ┆           ┆            ┆            ┆ broadcast/ ┆          │\n",
       "│          ┆             ┆           ┆           ┆            ┆            ┆ fi…        ┆          │\n",
       "│ teHLc5Sz ┆ wEuVhT9c    ┆ Tiebreaks ┆ tiebreaks ┆ 1712126655 ┆ 1713811500 ┆ https://li ┆ null     │\n",
       "│          ┆             ┆           ┆           ┆ 484        ┆ 000        ┆ chess.org/ ┆          │\n",
       "│          ┆             ┆           ┆           ┆            ┆            ┆ broadcast/ ┆          │\n",
       "│          ┆             ┆           ┆           ┆            ┆            ┆ fi…        ┆          │\n",
       "└──────────┴─────────────┴───────────┴───────────┴────────────┴────────────┴────────────┴──────────┘"
      ]
     },
     "execution_count": 20,
     "metadata": {},
     "output_type": "execute_result"
    }
   ],
   "source": [
    "lichess_rounds_outline_df"
   ]
  },
  {
   "cell_type": "code",
   "execution_count": 21,
   "metadata": {},
   "outputs": [
    {
     "data": {
      "text/html": [
       "<div><style>\n",
       ".dataframe > thead > tr,\n",
       ".dataframe > tbody > tr {\n",
       "  text-align: right;\n",
       "  white-space: pre-wrap;\n",
       "}\n",
       "</style>\n",
       "<small>shape: (8, 8)</small><table border=\"1\" class=\"dataframe\"><thead><tr><th>fide_id</th><th>tournament_id</th><th>name</th><th>score</th><th>number_of_rounds_played</th><th>rating</th><th>title</th><th>federation</th></tr><tr><td>i64</td><td>str</td><td>str</td><td>f64</td><td>i64</td><td>i64</td><td>str</td><td>str</td></tr></thead><tbody><tr><td>4168119</td><td>&quot;wEuVhT9c&quot;</td><td>&quot;Nepomniachtchi…</td><td>4.5</td><td>7</td><td>2758</td><td>&quot;GM&quot;</td><td>&quot;RUS&quot;</td></tr><tr><td>2020009</td><td>&quot;wEuVhT9c&quot;</td><td>&quot;Caruana, Fabia…</td><td>4.0</td><td>7</td><td>2803</td><td>&quot;GM&quot;</td><td>&quot;USA&quot;</td></tr><tr><td>25059530</td><td>&quot;wEuVhT9c&quot;</td><td>&quot;Praggnanandhaa…</td><td>4.0</td><td>7</td><td>2747</td><td>&quot;GM&quot;</td><td>&quot;IND&quot;</td></tr><tr><td>46616543</td><td>&quot;wEuVhT9c&quot;</td><td>&quot;Gukesh D&quot;</td><td>4.0</td><td>7</td><td>2743</td><td>&quot;GM&quot;</td><td>&quot;IND&quot;</td></tr><tr><td>2016192</td><td>&quot;wEuVhT9c&quot;</td><td>&quot;Nakamura, Hika…</td><td>3.5</td><td>7</td><td>2789</td><td>&quot;GM&quot;</td><td>&quot;USA&quot;</td></tr><tr><td>5029465</td><td>&quot;wEuVhT9c&quot;</td><td>&quot;Vidit, Santosh…</td><td>3.5</td><td>7</td><td>2727</td><td>&quot;GM&quot;</td><td>&quot;IND&quot;</td></tr><tr><td>12573981</td><td>&quot;wEuVhT9c&quot;</td><td>&quot;Firouzja, Alir…</td><td>2.5</td><td>7</td><td>2760</td><td>&quot;GM&quot;</td><td>&quot;FRA&quot;</td></tr><tr><td>13402960</td><td>&quot;wEuVhT9c&quot;</td><td>&quot;Abasov, Nijat&quot;</td><td>2.0</td><td>7</td><td>2632</td><td>&quot;GM&quot;</td><td>&quot;AZE&quot;</td></tr></tbody></table></div>"
      ],
      "text/plain": [
       "shape: (8, 8)\n",
       "┌──────────┬───────────────┬────────────────┬───────┬────────────────┬────────┬───────┬────────────┐\n",
       "│ fide_id  ┆ tournament_id ┆ name           ┆ score ┆ number_of_roun ┆ rating ┆ title ┆ federation │\n",
       "│ ---      ┆ ---           ┆ ---            ┆ ---   ┆ ds_played      ┆ ---    ┆ ---   ┆ ---        │\n",
       "│ i64      ┆ str           ┆ str            ┆ f64   ┆ ---            ┆ i64    ┆ str   ┆ str        │\n",
       "│          ┆               ┆                ┆       ┆ i64            ┆        ┆       ┆            │\n",
       "╞══════════╪═══════════════╪════════════════╪═══════╪════════════════╪════════╪═══════╪════════════╡\n",
       "│ 4168119  ┆ wEuVhT9c      ┆ Nepomniachtchi ┆ 4.5   ┆ 7              ┆ 2758   ┆ GM    ┆ RUS        │\n",
       "│          ┆               ┆ , Ian          ┆       ┆                ┆        ┆       ┆            │\n",
       "│ 2020009  ┆ wEuVhT9c      ┆ Caruana,       ┆ 4.0   ┆ 7              ┆ 2803   ┆ GM    ┆ USA        │\n",
       "│          ┆               ┆ Fabiano        ┆       ┆                ┆        ┆       ┆            │\n",
       "│ 25059530 ┆ wEuVhT9c      ┆ Praggnanandhaa ┆ 4.0   ┆ 7              ┆ 2747   ┆ GM    ┆ IND        │\n",
       "│          ┆               ┆ R              ┆       ┆                ┆        ┆       ┆            │\n",
       "│ 46616543 ┆ wEuVhT9c      ┆ Gukesh D       ┆ 4.0   ┆ 7              ┆ 2743   ┆ GM    ┆ IND        │\n",
       "│ 2016192  ┆ wEuVhT9c      ┆ Nakamura,      ┆ 3.5   ┆ 7              ┆ 2789   ┆ GM    ┆ USA        │\n",
       "│          ┆               ┆ Hikaru         ┆       ┆                ┆        ┆       ┆            │\n",
       "│ 5029465  ┆ wEuVhT9c      ┆ Vidit, Santosh ┆ 3.5   ┆ 7              ┆ 2727   ┆ GM    ┆ IND        │\n",
       "│          ┆               ┆ Gujrathi       ┆       ┆                ┆        ┆       ┆            │\n",
       "│ 12573981 ┆ wEuVhT9c      ┆ Firouzja,      ┆ 2.5   ┆ 7              ┆ 2760   ┆ GM    ┆ FRA        │\n",
       "│          ┆               ┆ Alireza        ┆       ┆                ┆        ┆       ┆            │\n",
       "│ 13402960 ┆ wEuVhT9c      ┆ Abasov, Nijat  ┆ 2.0   ┆ 7              ┆ 2632   ┆ GM    ┆ AZE        │\n",
       "└──────────┴───────────────┴────────────────┴───────┴────────────────┴────────┴───────┴────────────┘"
      ]
     },
     "execution_count": 21,
     "metadata": {},
     "output_type": "execute_result"
    }
   ],
   "source": [
    "lichess_leaderboard_df"
   ]
  },
  {
   "cell_type": "code",
   "execution_count": 2,
   "metadata": {},
   "outputs": [
    {
     "ename": "NameError",
     "evalue": "name 'lichess_rounds_detail_df' is not defined",
     "output_type": "error",
     "traceback": [
      "\u001b[0;31m---------------------------------------------------------------------------\u001b[0m",
      "\u001b[0;31mNameError\u001b[0m                                 Traceback (most recent call last)",
      "Cell \u001b[0;32mIn[2], line 1\u001b[0m\n\u001b[0;32m----> 1\u001b[0m \u001b[43mlichess_rounds_detail_df\u001b[49m\n",
      "\u001b[0;31mNameError\u001b[0m: name 'lichess_rounds_detail_df' is not defined"
     ]
    }
   ],
   "source": [
    "lichess_rounds_detail_df"
   ]
  },
  {
   "cell_type": "code",
   "execution_count": 13,
   "metadata": {},
   "outputs": [],
   "source": [
    "# tournament_helper.call_lichess_broadcasts_api(tournament_id, round_info=[\"japan-youth-chess-championship-2024\", \"round-1\", \"i0QWBTTi\"])"
   ]
  },
  {
   "cell_type": "code",
   "execution_count": null,
   "metadata": {},
   "outputs": [],
   "source": []
  },
  {
   "cell_type": "code",
   "execution_count": null,
   "metadata": {},
   "outputs": [],
   "source": []
  },
  {
   "cell_type": "code",
   "execution_count": null,
   "metadata": {},
   "outputs": [],
   "source": []
  },
  {
   "cell_type": "code",
   "execution_count": 50,
   "metadata": {},
   "outputs": [],
   "source": [
    "import json\n",
    "\n",
    "with open(f\"{tournament_id}_8.json\", \"w\") as f:\n",
    "    json.dump(rounds_json, f)"
   ]
  },
  {
   "cell_type": "code",
   "execution_count": null,
   "metadata": {},
   "outputs": [],
   "source": []
  }
 ],
 "metadata": {
  "kernelspec": {
   "display_name": ".venv",
   "language": "python",
   "name": "python3"
  },
  "language_info": {
   "codemirror_mode": {
    "name": "ipython",
    "version": 3
   },
   "file_extension": ".py",
   "mimetype": "text/x-python",
   "name": "python",
   "nbconvert_exporter": "python",
   "pygments_lexer": "ipython3",
   "version": "3.11.0"
  }
 },
 "nbformat": 4,
 "nbformat_minor": 2
}
