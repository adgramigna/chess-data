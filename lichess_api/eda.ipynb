{
 "cells": [
  {
   "cell_type": "code",
   "execution_count": 15,
   "metadata": {},
   "outputs": [
    {
     "data": {
      "text/plain": [
       "<polars.config.Config at 0x10a5995d0>"
      ]
     },
     "execution_count": 15,
     "metadata": {},
     "output_type": "execute_result"
    }
   ],
   "source": [
    "# import time\n",
    "# import logging\n",
    "# import sys\n",
    "# import utils.general as general_util\n",
    "# from dotenv import load_dotenv\n",
    "import polars as pl\n",
    "import utils.parsing_helpers.tournament_parser as tournament_parser\n",
    "import utils.parsing_helpers.leaderboard_parser as leaderboard_parser\n",
    "import utils.parsing_helpers.rounds_parser as rounds_parser\n",
    "import utils.general as general_util\n",
    "\n",
    "pl.Config(tbl_width_chars=100)\n",
    "pl.Config(tbl_rows=100)"
   ]
  },
  {
   "cell_type": "code",
   "execution_count": 16,
   "metadata": {},
   "outputs": [],
   "source": [
    "tournament_id = \"wEuVhT9c\"\n",
    "tournament_json, tournament_api_endpoint = general_util.call_lichess_broadcasts_api(\n",
    "    tournament_id\n",
    ")\n",
    "lichess_tour_df, lichess_rounds_outline_df = (\n",
    "    tournament_parser.create_broadcast_base_dataframes(tournament_json, tournament_id)\n",
    ")\n",
    "\n",
    "tour_slug = lichess_tour_df.select(\"slug\").item()\n",
    "has_leaderboard = lichess_tour_df.select(\"leaderboard\").item()\n",
    "lichess_rounds_outline_df = lichess_rounds_outline_df.with_columns(\n",
    "    tournament_slug=pl.lit(tour_slug)\n",
    ")"
   ]
  },
  {
   "cell_type": "code",
   "execution_count": 25,
   "metadata": {},
   "outputs": [
    {
     "data": {
      "text/html": [
       "<div><style>\n",
       ".dataframe > thead > tr,\n",
       ".dataframe > tbody > tr {\n",
       "  text-align: right;\n",
       "  white-space: pre-wrap;\n",
       "}\n",
       "</style>\n",
       "<small>shape: (15, 9)</small><table border=\"1\" class=\"dataframe\"><thead><tr><th>round_id</th><th>tournament_id</th><th>name</th><th>slug</th><th>created_at</th><th>starts_at</th><th>url</th><th>finished</th><th>tournament_slug</th></tr><tr><td>str</td><td>str</td><td>str</td><td>str</td><td>i64</td><td>i64</td><td>str</td><td>bool</td><td>str</td></tr></thead><tbody><tr><td>&quot;AjqSsU1w&quot;</td><td>&quot;wEuVhT9c&quot;</td><td>&quot;Round 1&quot;</td><td>&quot;round-1&quot;</td><td>1710760290779</td><td>1712256300000</td><td>&quot;https://liches…</td><td>true</td><td>&quot;fide-candidate…</td></tr><tr><td>&quot;GenKIJ8A&quot;</td><td>&quot;wEuVhT9c&quot;</td><td>&quot;Round 2&quot;</td><td>&quot;round-2&quot;</td><td>1711530504000</td><td>1712342700000</td><td>&quot;https://liches…</td><td>true</td><td>&quot;fide-candidate…</td></tr><tr><td>&quot;xQgaUu2y&quot;</td><td>&quot;wEuVhT9c&quot;</td><td>&quot;Round 3&quot;</td><td>&quot;round-3&quot;</td><td>1711530516119</td><td>1712429100000</td><td>&quot;https://liches…</td><td>true</td><td>&quot;fide-candidate…</td></tr><tr><td>&quot;CPS9dENa&quot;</td><td>&quot;wEuVhT9c&quot;</td><td>&quot;Round 4&quot;</td><td>&quot;round-4&quot;</td><td>1711530526339</td><td>1712515500000</td><td>&quot;https://liches…</td><td>true</td><td>&quot;fide-candidate…</td></tr><tr><td>&quot;MDiLWQ5M&quot;</td><td>&quot;wEuVhT9c&quot;</td><td>&quot;Round 5&quot;</td><td>&quot;round-5&quot;</td><td>1711530555192</td><td>1712688300000</td><td>&quot;https://liches…</td><td>true</td><td>&quot;fide-candidate…</td></tr><tr><td>&quot;kPqEUBZJ&quot;</td><td>&quot;wEuVhT9c&quot;</td><td>&quot;Round 6&quot;</td><td>&quot;round-6&quot;</td><td>1711530566963</td><td>1712774700000</td><td>&quot;https://liches…</td><td>true</td><td>&quot;fide-candidate…</td></tr><tr><td>&quot;X9LGGQoT&quot;</td><td>&quot;wEuVhT9c&quot;</td><td>&quot;Round 7&quot;</td><td>&quot;round-7&quot;</td><td>1711530578504</td><td>1712861100000</td><td>&quot;https://liches…</td><td>true</td><td>&quot;fide-candidate…</td></tr><tr><td>&quot;nUycmG6L&quot;</td><td>&quot;wEuVhT9c&quot;</td><td>&quot;Round 8&quot;</td><td>&quot;round-8&quot;</td><td>1711530594895</td><td>1713033900000</td><td>&quot;https://liches…</td><td>true</td><td>&quot;fide-candidate…</td></tr><tr><td>&quot;A7SWsX0x&quot;</td><td>&quot;wEuVhT9c&quot;</td><td>&quot;Round 9&quot;</td><td>&quot;round-9&quot;</td><td>1711530611752</td><td>1713120300000</td><td>&quot;https://liches…</td><td>null</td><td>&quot;fide-candidate…</td></tr><tr><td>&quot;vfqUR38R&quot;</td><td>&quot;wEuVhT9c&quot;</td><td>&quot;Round 10&quot;</td><td>&quot;round-10&quot;</td><td>1711530626686</td><td>1713206700000</td><td>&quot;https://liches…</td><td>null</td><td>&quot;fide-candidate…</td></tr><tr><td>&quot;46ohJ8Qt&quot;</td><td>&quot;wEuVhT9c&quot;</td><td>&quot;Round 11&quot;</td><td>&quot;round-11&quot;</td><td>1711530640577</td><td>1713379500000</td><td>&quot;https://liches…</td><td>null</td><td>&quot;fide-candidate…</td></tr><tr><td>&quot;eJghIBZe&quot;</td><td>&quot;wEuVhT9c&quot;</td><td>&quot;Round 12&quot;</td><td>&quot;round-12&quot;</td><td>1711530651369</td><td>1713465900000</td><td>&quot;https://liches…</td><td>null</td><td>&quot;fide-candidate…</td></tr><tr><td>&quot;Dc0DQMaQ&quot;</td><td>&quot;wEuVhT9c&quot;</td><td>&quot;Round 13&quot;</td><td>&quot;round-13&quot;</td><td>1711530662643</td><td>1713638700000</td><td>&quot;https://liches…</td><td>null</td><td>&quot;fide-candidate…</td></tr><tr><td>&quot;S4zisI6M&quot;</td><td>&quot;wEuVhT9c&quot;</td><td>&quot;Round 14&quot;</td><td>&quot;round-14&quot;</td><td>1711530673602</td><td>1713725100000</td><td>&quot;https://liches…</td><td>null</td><td>&quot;fide-candidate…</td></tr><tr><td>&quot;teHLc5Sz&quot;</td><td>&quot;wEuVhT9c&quot;</td><td>&quot;Tiebreaks&quot;</td><td>&quot;tiebreaks&quot;</td><td>1712126655484</td><td>1713811500000</td><td>&quot;https://liches…</td><td>null</td><td>&quot;fide-candidate…</td></tr></tbody></table></div>"
      ],
      "text/plain": [
       "shape: (15, 9)\n",
       "┌──────────┬────────────┬───────────┬───────────┬───┬───────────┬───────────┬──────────┬───────────┐\n",
       "│ round_id ┆ tournament ┆ name      ┆ slug      ┆ … ┆ starts_at ┆ url       ┆ finished ┆ tournamen │\n",
       "│ ---      ┆ _id        ┆ ---       ┆ ---       ┆   ┆ ---       ┆ ---       ┆ ---      ┆ t_slug    │\n",
       "│ str      ┆ ---        ┆ str       ┆ str       ┆   ┆ i64       ┆ str       ┆ bool     ┆ ---       │\n",
       "│          ┆ str        ┆           ┆           ┆   ┆           ┆           ┆          ┆ str       │\n",
       "╞══════════╪════════════╪═══════════╪═══════════╪═══╪═══════════╪═══════════╪══════════╪═══════════╡\n",
       "│ AjqSsU1w ┆ wEuVhT9c   ┆ Round 1   ┆ round-1   ┆ … ┆ 171225630 ┆ https://l ┆ true     ┆ fide-cand │\n",
       "│          ┆            ┆           ┆           ┆   ┆ 0000      ┆ ichess.or ┆          ┆ idates-20 │\n",
       "│          ┆            ┆           ┆           ┆   ┆           ┆ g/broadca ┆          ┆ 24--open  │\n",
       "│          ┆            ┆           ┆           ┆   ┆           ┆ st/fi…    ┆          ┆           │\n",
       "│ GenKIJ8A ┆ wEuVhT9c   ┆ Round 2   ┆ round-2   ┆ … ┆ 171234270 ┆ https://l ┆ true     ┆ fide-cand │\n",
       "│          ┆            ┆           ┆           ┆   ┆ 0000      ┆ ichess.or ┆          ┆ idates-20 │\n",
       "│          ┆            ┆           ┆           ┆   ┆           ┆ g/broadca ┆          ┆ 24--open  │\n",
       "│          ┆            ┆           ┆           ┆   ┆           ┆ st/fi…    ┆          ┆           │\n",
       "│ xQgaUu2y ┆ wEuVhT9c   ┆ Round 3   ┆ round-3   ┆ … ┆ 171242910 ┆ https://l ┆ true     ┆ fide-cand │\n",
       "│          ┆            ┆           ┆           ┆   ┆ 0000      ┆ ichess.or ┆          ┆ idates-20 │\n",
       "│          ┆            ┆           ┆           ┆   ┆           ┆ g/broadca ┆          ┆ 24--open  │\n",
       "│          ┆            ┆           ┆           ┆   ┆           ┆ st/fi…    ┆          ┆           │\n",
       "│ CPS9dENa ┆ wEuVhT9c   ┆ Round 4   ┆ round-4   ┆ … ┆ 171251550 ┆ https://l ┆ true     ┆ fide-cand │\n",
       "│          ┆            ┆           ┆           ┆   ┆ 0000      ┆ ichess.or ┆          ┆ idates-20 │\n",
       "│          ┆            ┆           ┆           ┆   ┆           ┆ g/broadca ┆          ┆ 24--open  │\n",
       "│          ┆            ┆           ┆           ┆   ┆           ┆ st/fi…    ┆          ┆           │\n",
       "│ MDiLWQ5M ┆ wEuVhT9c   ┆ Round 5   ┆ round-5   ┆ … ┆ 171268830 ┆ https://l ┆ true     ┆ fide-cand │\n",
       "│          ┆            ┆           ┆           ┆   ┆ 0000      ┆ ichess.or ┆          ┆ idates-20 │\n",
       "│          ┆            ┆           ┆           ┆   ┆           ┆ g/broadca ┆          ┆ 24--open  │\n",
       "│          ┆            ┆           ┆           ┆   ┆           ┆ st/fi…    ┆          ┆           │\n",
       "│ kPqEUBZJ ┆ wEuVhT9c   ┆ Round 6   ┆ round-6   ┆ … ┆ 171277470 ┆ https://l ┆ true     ┆ fide-cand │\n",
       "│          ┆            ┆           ┆           ┆   ┆ 0000      ┆ ichess.or ┆          ┆ idates-20 │\n",
       "│          ┆            ┆           ┆           ┆   ┆           ┆ g/broadca ┆          ┆ 24--open  │\n",
       "│          ┆            ┆           ┆           ┆   ┆           ┆ st/fi…    ┆          ┆           │\n",
       "│ X9LGGQoT ┆ wEuVhT9c   ┆ Round 7   ┆ round-7   ┆ … ┆ 171286110 ┆ https://l ┆ true     ┆ fide-cand │\n",
       "│          ┆            ┆           ┆           ┆   ┆ 0000      ┆ ichess.or ┆          ┆ idates-20 │\n",
       "│          ┆            ┆           ┆           ┆   ┆           ┆ g/broadca ┆          ┆ 24--open  │\n",
       "│          ┆            ┆           ┆           ┆   ┆           ┆ st/fi…    ┆          ┆           │\n",
       "│ nUycmG6L ┆ wEuVhT9c   ┆ Round 8   ┆ round-8   ┆ … ┆ 171303390 ┆ https://l ┆ true     ┆ fide-cand │\n",
       "│          ┆            ┆           ┆           ┆   ┆ 0000      ┆ ichess.or ┆          ┆ idates-20 │\n",
       "│          ┆            ┆           ┆           ┆   ┆           ┆ g/broadca ┆          ┆ 24--open  │\n",
       "│          ┆            ┆           ┆           ┆   ┆           ┆ st/fi…    ┆          ┆           │\n",
       "│ A7SWsX0x ┆ wEuVhT9c   ┆ Round 9   ┆ round-9   ┆ … ┆ 171312030 ┆ https://l ┆ null     ┆ fide-cand │\n",
       "│          ┆            ┆           ┆           ┆   ┆ 0000      ┆ ichess.or ┆          ┆ idates-20 │\n",
       "│          ┆            ┆           ┆           ┆   ┆           ┆ g/broadca ┆          ┆ 24--open  │\n",
       "│          ┆            ┆           ┆           ┆   ┆           ┆ st/fi…    ┆          ┆           │\n",
       "│ vfqUR38R ┆ wEuVhT9c   ┆ Round 10  ┆ round-10  ┆ … ┆ 171320670 ┆ https://l ┆ null     ┆ fide-cand │\n",
       "│          ┆            ┆           ┆           ┆   ┆ 0000      ┆ ichess.or ┆          ┆ idates-20 │\n",
       "│          ┆            ┆           ┆           ┆   ┆           ┆ g/broadca ┆          ┆ 24--open  │\n",
       "│          ┆            ┆           ┆           ┆   ┆           ┆ st/fi…    ┆          ┆           │\n",
       "│ 46ohJ8Qt ┆ wEuVhT9c   ┆ Round 11  ┆ round-11  ┆ … ┆ 171337950 ┆ https://l ┆ null     ┆ fide-cand │\n",
       "│          ┆            ┆           ┆           ┆   ┆ 0000      ┆ ichess.or ┆          ┆ idates-20 │\n",
       "│          ┆            ┆           ┆           ┆   ┆           ┆ g/broadca ┆          ┆ 24--open  │\n",
       "│          ┆            ┆           ┆           ┆   ┆           ┆ st/fi…    ┆          ┆           │\n",
       "│ eJghIBZe ┆ wEuVhT9c   ┆ Round 12  ┆ round-12  ┆ … ┆ 171346590 ┆ https://l ┆ null     ┆ fide-cand │\n",
       "│          ┆            ┆           ┆           ┆   ┆ 0000      ┆ ichess.or ┆          ┆ idates-20 │\n",
       "│          ┆            ┆           ┆           ┆   ┆           ┆ g/broadca ┆          ┆ 24--open  │\n",
       "│          ┆            ┆           ┆           ┆   ┆           ┆ st/fi…    ┆          ┆           │\n",
       "│ Dc0DQMaQ ┆ wEuVhT9c   ┆ Round 13  ┆ round-13  ┆ … ┆ 171363870 ┆ https://l ┆ null     ┆ fide-cand │\n",
       "│          ┆            ┆           ┆           ┆   ┆ 0000      ┆ ichess.or ┆          ┆ idates-20 │\n",
       "│          ┆            ┆           ┆           ┆   ┆           ┆ g/broadca ┆          ┆ 24--open  │\n",
       "│          ┆            ┆           ┆           ┆   ┆           ┆ st/fi…    ┆          ┆           │\n",
       "│ S4zisI6M ┆ wEuVhT9c   ┆ Round 14  ┆ round-14  ┆ … ┆ 171372510 ┆ https://l ┆ null     ┆ fide-cand │\n",
       "│          ┆            ┆           ┆           ┆   ┆ 0000      ┆ ichess.or ┆          ┆ idates-20 │\n",
       "│          ┆            ┆           ┆           ┆   ┆           ┆ g/broadca ┆          ┆ 24--open  │\n",
       "│          ┆            ┆           ┆           ┆   ┆           ┆ st/fi…    ┆          ┆           │\n",
       "│ teHLc5Sz ┆ wEuVhT9c   ┆ Tiebreaks ┆ tiebreaks ┆ … ┆ 171381150 ┆ https://l ┆ null     ┆ fide-cand │\n",
       "│          ┆            ┆           ┆           ┆   ┆ 0000      ┆ ichess.or ┆          ┆ idates-20 │\n",
       "│          ┆            ┆           ┆           ┆   ┆           ┆ g/broadca ┆          ┆ 24--open  │\n",
       "│          ┆            ┆           ┆           ┆   ┆           ┆ st/fi…    ┆          ┆           │\n",
       "└──────────┴────────────┴───────────┴───────────┴───┴───────────┴───────────┴──────────┴───────────┘"
      ]
     },
     "execution_count": 25,
     "metadata": {},
     "output_type": "execute_result"
    }
   ],
   "source": [
    "lichess_rounds_outline_df.with_columns(pl.concat_list([\"\"]))"
   ]
  },
  {
   "cell_type": "code",
   "execution_count": 17,
   "metadata": {},
   "outputs": [],
   "source": [
    "if has_leaderboard:\n",
    "    leaderboard_json, leaderboard_api_endpoint = (\n",
    "        general_util.call_lichess_broadcasts_api(tournament_id, leaderboard=True)\n",
    "    )\n",
    "    lichess_leaderboard_df = leaderboard_parser.create_broadcast_leaderboard_dataframe(\n",
    "        leaderboard_json, tournament_id\n",
    "    )[0]"
   ]
  },
  {
   "cell_type": "code",
   "execution_count": 18,
   "metadata": {},
   "outputs": [],
   "source": [
    "round_5_info = [\"fide-candidates-2024--open\", \"round-5\", \"MDiLWQ5M\"]"
   ]
  },
  {
   "cell_type": "code",
   "execution_count": 19,
   "metadata": {},
   "outputs": [],
   "source": [
    "rounds_json, rounds_api_endpoint = general_util.call_lichess_broadcasts_api(\n",
    "    round_info=round_5_info,\n",
    "    # round_info=[\"fide-candidates-2024--open\", \"round-8\", \"nUycmG6L\"]\n",
    "    # round_info=[\"fide-candidates-2024--open\", \"round-14\", \"S4zisI6M\"]\n",
    ")\n",
    "lichess_rounds_detail_df, lichess_players_df = (\n",
    "    rounds_parser.create_broadcast_rounds_detail_dataframes(\n",
    "        rounds_json, tournament_id, round_5_info[-1]\n",
    "    )\n",
    ")"
   ]
  },
  {
   "cell_type": "code",
   "execution_count": 20,
   "metadata": {},
   "outputs": [
    {
     "data": {
      "text/html": [
       "<div><style>\n",
       ".dataframe > thead > tr,\n",
       ".dataframe > tbody > tr {\n",
       "  text-align: right;\n",
       "  white-space: pre-wrap;\n",
       "}\n",
       "</style>\n",
       "<small>shape: (1, 8)</small><table border=\"1\" class=\"dataframe\"><thead><tr><th>tournament_id</th><th>name</th><th>slug</th><th>created_at</th><th>tier</th><th>image</th><th>url</th><th>leaderboard</th></tr><tr><td>str</td><td>str</td><td>str</td><td>i64</td><td>i64</td><td>str</td><td>str</td><td>bool</td></tr></thead><tbody><tr><td>&quot;wEuVhT9c&quot;</td><td>&quot;FIDE Candidate…</td><td>&quot;fide-candidate…</td><td>1710759962579</td><td>5</td><td>&quot;https://image.…</td><td>&quot;https://liches…</td><td>true</td></tr></tbody></table></div>"
      ],
      "text/plain": [
       "shape: (1, 8)\n",
       "┌─────────────┬────────────┬────────────┬────────────┬──────┬────────────┬────────────┬────────────┐\n",
       "│ tournament_ ┆ name       ┆ slug       ┆ created_at ┆ tier ┆ image      ┆ url        ┆ leaderboar │\n",
       "│ id          ┆ ---        ┆ ---        ┆ ---        ┆ ---  ┆ ---        ┆ ---        ┆ d          │\n",
       "│ ---         ┆ str        ┆ str        ┆ i64        ┆ i64  ┆ str        ┆ str        ┆ ---        │\n",
       "│ str         ┆            ┆            ┆            ┆      ┆            ┆            ┆ bool       │\n",
       "╞═════════════╪════════════╪════════════╪════════════╪══════╪════════════╪════════════╪════════════╡\n",
       "│ wEuVhT9c    ┆ FIDE       ┆ fide-candi ┆ 1710759962 ┆ 5    ┆ https://im ┆ https://li ┆ true       │\n",
       "│             ┆ Candidates ┆ dates-2024 ┆ 579        ┆      ┆ age.liches ┆ chess.org/ ┆            │\n",
       "│             ┆ 2024 |     ┆ --open     ┆            ┆      ┆ s1.org/dis ┆ broadcast/ ┆            │\n",
       "│             ┆ Open       ┆            ┆            ┆      ┆ pl…        ┆ fi…        ┆            │\n",
       "└─────────────┴────────────┴────────────┴────────────┴──────┴────────────┴────────────┴────────────┘"
      ]
     },
     "execution_count": 20,
     "metadata": {},
     "output_type": "execute_result"
    }
   ],
   "source": [
    "lichess_tour_df"
   ]
  },
  {
   "cell_type": "code",
   "execution_count": 14,
   "metadata": {},
   "outputs": [
    {
     "data": {
      "text/html": [
       "<div><style>\n",
       ".dataframe > thead > tr,\n",
       ".dataframe > tbody > tr {\n",
       "  text-align: right;\n",
       "  white-space: pre-wrap;\n",
       "}\n",
       "</style>\n",
       "<small>shape: (15, 9)</small><table border=\"1\" class=\"dataframe\"><thead><tr><th>round_id</th><th>tournament_id</th><th>name</th><th>slug</th><th>created_at</th><th>starts_at</th><th>url</th><th>finished</th><th>tournament_slug</th></tr><tr><td>str</td><td>str</td><td>str</td><td>str</td><td>i64</td><td>i64</td><td>str</td><td>bool</td><td>str</td></tr></thead><tbody><tr><td>&quot;AjqSsU1w&quot;</td><td>&quot;wEuVhT9c&quot;</td><td>&quot;Round 1&quot;</td><td>&quot;round-1&quot;</td><td>1710760290779</td><td>1712256300000</td><td>&quot;https://liches…</td><td>true</td><td>&quot;fide-candidate…</td></tr><tr><td>&quot;GenKIJ8A&quot;</td><td>&quot;wEuVhT9c&quot;</td><td>&quot;Round 2&quot;</td><td>&quot;round-2&quot;</td><td>1711530504000</td><td>1712342700000</td><td>&quot;https://liches…</td><td>true</td><td>&quot;fide-candidate…</td></tr><tr><td>&quot;xQgaUu2y&quot;</td><td>&quot;wEuVhT9c&quot;</td><td>&quot;Round 3&quot;</td><td>&quot;round-3&quot;</td><td>1711530516119</td><td>1712429100000</td><td>&quot;https://liches…</td><td>true</td><td>&quot;fide-candidate…</td></tr><tr><td>&quot;CPS9dENa&quot;</td><td>&quot;wEuVhT9c&quot;</td><td>&quot;Round 4&quot;</td><td>&quot;round-4&quot;</td><td>1711530526339</td><td>1712515500000</td><td>&quot;https://liches…</td><td>true</td><td>&quot;fide-candidate…</td></tr><tr><td>&quot;MDiLWQ5M&quot;</td><td>&quot;wEuVhT9c&quot;</td><td>&quot;Round 5&quot;</td><td>&quot;round-5&quot;</td><td>1711530555192</td><td>1712688300000</td><td>&quot;https://liches…</td><td>true</td><td>&quot;fide-candidate…</td></tr><tr><td>&quot;kPqEUBZJ&quot;</td><td>&quot;wEuVhT9c&quot;</td><td>&quot;Round 6&quot;</td><td>&quot;round-6&quot;</td><td>1711530566963</td><td>1712774700000</td><td>&quot;https://liches…</td><td>true</td><td>&quot;fide-candidate…</td></tr><tr><td>&quot;X9LGGQoT&quot;</td><td>&quot;wEuVhT9c&quot;</td><td>&quot;Round 7&quot;</td><td>&quot;round-7&quot;</td><td>1711530578504</td><td>1712861100000</td><td>&quot;https://liches…</td><td>true</td><td>&quot;fide-candidate…</td></tr><tr><td>&quot;nUycmG6L&quot;</td><td>&quot;wEuVhT9c&quot;</td><td>&quot;Round 8&quot;</td><td>&quot;round-8&quot;</td><td>1711530594895</td><td>1713033900000</td><td>&quot;https://liches…</td><td>true</td><td>&quot;fide-candidate…</td></tr><tr><td>&quot;A7SWsX0x&quot;</td><td>&quot;wEuVhT9c&quot;</td><td>&quot;Round 9&quot;</td><td>&quot;round-9&quot;</td><td>1711530611752</td><td>1713120300000</td><td>&quot;https://liches…</td><td>null</td><td>&quot;fide-candidate…</td></tr><tr><td>&quot;vfqUR38R&quot;</td><td>&quot;wEuVhT9c&quot;</td><td>&quot;Round 10&quot;</td><td>&quot;round-10&quot;</td><td>1711530626686</td><td>1713206700000</td><td>&quot;https://liches…</td><td>null</td><td>&quot;fide-candidate…</td></tr><tr><td>&quot;46ohJ8Qt&quot;</td><td>&quot;wEuVhT9c&quot;</td><td>&quot;Round 11&quot;</td><td>&quot;round-11&quot;</td><td>1711530640577</td><td>1713379500000</td><td>&quot;https://liches…</td><td>null</td><td>&quot;fide-candidate…</td></tr><tr><td>&quot;eJghIBZe&quot;</td><td>&quot;wEuVhT9c&quot;</td><td>&quot;Round 12&quot;</td><td>&quot;round-12&quot;</td><td>1711530651369</td><td>1713465900000</td><td>&quot;https://liches…</td><td>null</td><td>&quot;fide-candidate…</td></tr><tr><td>&quot;Dc0DQMaQ&quot;</td><td>&quot;wEuVhT9c&quot;</td><td>&quot;Round 13&quot;</td><td>&quot;round-13&quot;</td><td>1711530662643</td><td>1713638700000</td><td>&quot;https://liches…</td><td>null</td><td>&quot;fide-candidate…</td></tr><tr><td>&quot;S4zisI6M&quot;</td><td>&quot;wEuVhT9c&quot;</td><td>&quot;Round 14&quot;</td><td>&quot;round-14&quot;</td><td>1711530673602</td><td>1713725100000</td><td>&quot;https://liches…</td><td>null</td><td>&quot;fide-candidate…</td></tr><tr><td>&quot;teHLc5Sz&quot;</td><td>&quot;wEuVhT9c&quot;</td><td>&quot;Tiebreaks&quot;</td><td>&quot;tiebreaks&quot;</td><td>1712126655484</td><td>1713811500000</td><td>&quot;https://liches…</td><td>null</td><td>&quot;fide-candidate…</td></tr></tbody></table></div>"
      ],
      "text/plain": [
       "shape: (15, 9)\n",
       "┌──────────┬────────────┬───────────┬───────────┬───┬───────────┬───────────┬──────────┬───────────┐\n",
       "│ round_id ┆ tournament ┆ name      ┆ slug      ┆ … ┆ starts_at ┆ url       ┆ finished ┆ tournamen │\n",
       "│ ---      ┆ _id        ┆ ---       ┆ ---       ┆   ┆ ---       ┆ ---       ┆ ---      ┆ t_slug    │\n",
       "│ str      ┆ ---        ┆ str       ┆ str       ┆   ┆ i64       ┆ str       ┆ bool     ┆ ---       │\n",
       "│          ┆ str        ┆           ┆           ┆   ┆           ┆           ┆          ┆ str       │\n",
       "╞══════════╪════════════╪═══════════╪═══════════╪═══╪═══════════╪═══════════╪══════════╪═══════════╡\n",
       "│ AjqSsU1w ┆ wEuVhT9c   ┆ Round 1   ┆ round-1   ┆ … ┆ 171225630 ┆ https://l ┆ true     ┆ fide-cand │\n",
       "│          ┆            ┆           ┆           ┆   ┆ 0000      ┆ ichess.or ┆          ┆ idates-20 │\n",
       "│          ┆            ┆           ┆           ┆   ┆           ┆ g/broadca ┆          ┆ 24--open  │\n",
       "│          ┆            ┆           ┆           ┆   ┆           ┆ st/fi…    ┆          ┆           │\n",
       "│ GenKIJ8A ┆ wEuVhT9c   ┆ Round 2   ┆ round-2   ┆ … ┆ 171234270 ┆ https://l ┆ true     ┆ fide-cand │\n",
       "│          ┆            ┆           ┆           ┆   ┆ 0000      ┆ ichess.or ┆          ┆ idates-20 │\n",
       "│          ┆            ┆           ┆           ┆   ┆           ┆ g/broadca ┆          ┆ 24--open  │\n",
       "│          ┆            ┆           ┆           ┆   ┆           ┆ st/fi…    ┆          ┆           │\n",
       "│ xQgaUu2y ┆ wEuVhT9c   ┆ Round 3   ┆ round-3   ┆ … ┆ 171242910 ┆ https://l ┆ true     ┆ fide-cand │\n",
       "│          ┆            ┆           ┆           ┆   ┆ 0000      ┆ ichess.or ┆          ┆ idates-20 │\n",
       "│          ┆            ┆           ┆           ┆   ┆           ┆ g/broadca ┆          ┆ 24--open  │\n",
       "│          ┆            ┆           ┆           ┆   ┆           ┆ st/fi…    ┆          ┆           │\n",
       "│ CPS9dENa ┆ wEuVhT9c   ┆ Round 4   ┆ round-4   ┆ … ┆ 171251550 ┆ https://l ┆ true     ┆ fide-cand │\n",
       "│          ┆            ┆           ┆           ┆   ┆ 0000      ┆ ichess.or ┆          ┆ idates-20 │\n",
       "│          ┆            ┆           ┆           ┆   ┆           ┆ g/broadca ┆          ┆ 24--open  │\n",
       "│          ┆            ┆           ┆           ┆   ┆           ┆ st/fi…    ┆          ┆           │\n",
       "│ MDiLWQ5M ┆ wEuVhT9c   ┆ Round 5   ┆ round-5   ┆ … ┆ 171268830 ┆ https://l ┆ true     ┆ fide-cand │\n",
       "│          ┆            ┆           ┆           ┆   ┆ 0000      ┆ ichess.or ┆          ┆ idates-20 │\n",
       "│          ┆            ┆           ┆           ┆   ┆           ┆ g/broadca ┆          ┆ 24--open  │\n",
       "│          ┆            ┆           ┆           ┆   ┆           ┆ st/fi…    ┆          ┆           │\n",
       "│ kPqEUBZJ ┆ wEuVhT9c   ┆ Round 6   ┆ round-6   ┆ … ┆ 171277470 ┆ https://l ┆ true     ┆ fide-cand │\n",
       "│          ┆            ┆           ┆           ┆   ┆ 0000      ┆ ichess.or ┆          ┆ idates-20 │\n",
       "│          ┆            ┆           ┆           ┆   ┆           ┆ g/broadca ┆          ┆ 24--open  │\n",
       "│          ┆            ┆           ┆           ┆   ┆           ┆ st/fi…    ┆          ┆           │\n",
       "│ X9LGGQoT ┆ wEuVhT9c   ┆ Round 7   ┆ round-7   ┆ … ┆ 171286110 ┆ https://l ┆ true     ┆ fide-cand │\n",
       "│          ┆            ┆           ┆           ┆   ┆ 0000      ┆ ichess.or ┆          ┆ idates-20 │\n",
       "│          ┆            ┆           ┆           ┆   ┆           ┆ g/broadca ┆          ┆ 24--open  │\n",
       "│          ┆            ┆           ┆           ┆   ┆           ┆ st/fi…    ┆          ┆           │\n",
       "│ nUycmG6L ┆ wEuVhT9c   ┆ Round 8   ┆ round-8   ┆ … ┆ 171303390 ┆ https://l ┆ true     ┆ fide-cand │\n",
       "│          ┆            ┆           ┆           ┆   ┆ 0000      ┆ ichess.or ┆          ┆ idates-20 │\n",
       "│          ┆            ┆           ┆           ┆   ┆           ┆ g/broadca ┆          ┆ 24--open  │\n",
       "│          ┆            ┆           ┆           ┆   ┆           ┆ st/fi…    ┆          ┆           │\n",
       "│ A7SWsX0x ┆ wEuVhT9c   ┆ Round 9   ┆ round-9   ┆ … ┆ 171312030 ┆ https://l ┆ null     ┆ fide-cand │\n",
       "│          ┆            ┆           ┆           ┆   ┆ 0000      ┆ ichess.or ┆          ┆ idates-20 │\n",
       "│          ┆            ┆           ┆           ┆   ┆           ┆ g/broadca ┆          ┆ 24--open  │\n",
       "│          ┆            ┆           ┆           ┆   ┆           ┆ st/fi…    ┆          ┆           │\n",
       "│ vfqUR38R ┆ wEuVhT9c   ┆ Round 10  ┆ round-10  ┆ … ┆ 171320670 ┆ https://l ┆ null     ┆ fide-cand │\n",
       "│          ┆            ┆           ┆           ┆   ┆ 0000      ┆ ichess.or ┆          ┆ idates-20 │\n",
       "│          ┆            ┆           ┆           ┆   ┆           ┆ g/broadca ┆          ┆ 24--open  │\n",
       "│          ┆            ┆           ┆           ┆   ┆           ┆ st/fi…    ┆          ┆           │\n",
       "│ 46ohJ8Qt ┆ wEuVhT9c   ┆ Round 11  ┆ round-11  ┆ … ┆ 171337950 ┆ https://l ┆ null     ┆ fide-cand │\n",
       "│          ┆            ┆           ┆           ┆   ┆ 0000      ┆ ichess.or ┆          ┆ idates-20 │\n",
       "│          ┆            ┆           ┆           ┆   ┆           ┆ g/broadca ┆          ┆ 24--open  │\n",
       "│          ┆            ┆           ┆           ┆   ┆           ┆ st/fi…    ┆          ┆           │\n",
       "│ eJghIBZe ┆ wEuVhT9c   ┆ Round 12  ┆ round-12  ┆ … ┆ 171346590 ┆ https://l ┆ null     ┆ fide-cand │\n",
       "│          ┆            ┆           ┆           ┆   ┆ 0000      ┆ ichess.or ┆          ┆ idates-20 │\n",
       "│          ┆            ┆           ┆           ┆   ┆           ┆ g/broadca ┆          ┆ 24--open  │\n",
       "│          ┆            ┆           ┆           ┆   ┆           ┆ st/fi…    ┆          ┆           │\n",
       "│ Dc0DQMaQ ┆ wEuVhT9c   ┆ Round 13  ┆ round-13  ┆ … ┆ 171363870 ┆ https://l ┆ null     ┆ fide-cand │\n",
       "│          ┆            ┆           ┆           ┆   ┆ 0000      ┆ ichess.or ┆          ┆ idates-20 │\n",
       "│          ┆            ┆           ┆           ┆   ┆           ┆ g/broadca ┆          ┆ 24--open  │\n",
       "│          ┆            ┆           ┆           ┆   ┆           ┆ st/fi…    ┆          ┆           │\n",
       "│ S4zisI6M ┆ wEuVhT9c   ┆ Round 14  ┆ round-14  ┆ … ┆ 171372510 ┆ https://l ┆ null     ┆ fide-cand │\n",
       "│          ┆            ┆           ┆           ┆   ┆ 0000      ┆ ichess.or ┆          ┆ idates-20 │\n",
       "│          ┆            ┆           ┆           ┆   ┆           ┆ g/broadca ┆          ┆ 24--open  │\n",
       "│          ┆            ┆           ┆           ┆   ┆           ┆ st/fi…    ┆          ┆           │\n",
       "│ teHLc5Sz ┆ wEuVhT9c   ┆ Tiebreaks ┆ tiebreaks ┆ … ┆ 171381150 ┆ https://l ┆ null     ┆ fide-cand │\n",
       "│          ┆            ┆           ┆           ┆   ┆ 0000      ┆ ichess.or ┆          ┆ idates-20 │\n",
       "│          ┆            ┆           ┆           ┆   ┆           ┆ g/broadca ┆          ┆ 24--open  │\n",
       "│          ┆            ┆           ┆           ┆   ┆           ┆ st/fi…    ┆          ┆           │\n",
       "└──────────┴────────────┴───────────┴───────────┴───┴───────────┴───────────┴──────────┴───────────┘"
      ]
     },
     "execution_count": 14,
     "metadata": {},
     "output_type": "execute_result"
    }
   ],
   "source": [
    "lichess_rounds_outline_df"
   ]
  },
  {
   "cell_type": "code",
   "execution_count": 11,
   "metadata": {},
   "outputs": [
    {
     "data": {
      "text/html": [
       "<div><style>\n",
       ".dataframe > thead > tr,\n",
       ".dataframe > tbody > tr {\n",
       "  text-align: right;\n",
       "  white-space: pre-wrap;\n",
       "}\n",
       "</style>\n",
       "<small>shape: (8, 8)</small><table border=\"1\" class=\"dataframe\"><thead><tr><th>fide_id</th><th>tournament_id</th><th>name</th><th>score</th><th>number_of_rounds_played</th><th>rating</th><th>title</th><th>federation</th></tr><tr><td>i64</td><td>str</td><td>str</td><td>f64</td><td>i64</td><td>i64</td><td>str</td><td>str</td></tr></thead><tbody><tr><td>4168119</td><td>&quot;wEuVhT9c&quot;</td><td>&quot;Nepomniachtchi…</td><td>5.0</td><td>8</td><td>2758</td><td>&quot;GM&quot;</td><td>&quot;RUS&quot;</td></tr><tr><td>46616543</td><td>&quot;wEuVhT9c&quot;</td><td>&quot;Gukesh D&quot;</td><td>5.0</td><td>8</td><td>2743</td><td>&quot;GM&quot;</td><td>&quot;IND&quot;</td></tr><tr><td>2016192</td><td>&quot;wEuVhT9c&quot;</td><td>&quot;Nakamura, Hika…</td><td>4.5</td><td>8</td><td>2789</td><td>&quot;GM&quot;</td><td>&quot;USA&quot;</td></tr><tr><td>25059530</td><td>&quot;wEuVhT9c&quot;</td><td>&quot;Praggnanandhaa…</td><td>4.5</td><td>8</td><td>2747</td><td>&quot;GM&quot;</td><td>&quot;IND&quot;</td></tr><tr><td>2020009</td><td>&quot;wEuVhT9c&quot;</td><td>&quot;Caruana, Fabia…</td><td>4.0</td><td>8</td><td>2803</td><td>&quot;GM&quot;</td><td>&quot;USA&quot;</td></tr><tr><td>5029465</td><td>&quot;wEuVhT9c&quot;</td><td>&quot;Vidit, Santosh…</td><td>3.5</td><td>8</td><td>2727</td><td>&quot;GM&quot;</td><td>&quot;IND&quot;</td></tr><tr><td>12573981</td><td>&quot;wEuVhT9c&quot;</td><td>&quot;Firouzja, Alir…</td><td>3.0</td><td>8</td><td>2760</td><td>&quot;GM&quot;</td><td>&quot;FRA&quot;</td></tr><tr><td>13402960</td><td>&quot;wEuVhT9c&quot;</td><td>&quot;Abasov, Nijat&quot;</td><td>2.5</td><td>8</td><td>2632</td><td>&quot;GM&quot;</td><td>&quot;AZE&quot;</td></tr></tbody></table></div>"
      ],
      "text/plain": [
       "shape: (8, 8)\n",
       "┌──────────┬───────────────┬────────────────┬───────┬────────────────┬────────┬───────┬────────────┐\n",
       "│ fide_id  ┆ tournament_id ┆ name           ┆ score ┆ number_of_roun ┆ rating ┆ title ┆ federation │\n",
       "│ ---      ┆ ---           ┆ ---            ┆ ---   ┆ ds_played      ┆ ---    ┆ ---   ┆ ---        │\n",
       "│ i64      ┆ str           ┆ str            ┆ f64   ┆ ---            ┆ i64    ┆ str   ┆ str        │\n",
       "│          ┆               ┆                ┆       ┆ i64            ┆        ┆       ┆            │\n",
       "╞══════════╪═══════════════╪════════════════╪═══════╪════════════════╪════════╪═══════╪════════════╡\n",
       "│ 4168119  ┆ wEuVhT9c      ┆ Nepomniachtchi ┆ 5.0   ┆ 8              ┆ 2758   ┆ GM    ┆ RUS        │\n",
       "│          ┆               ┆ , Ian          ┆       ┆                ┆        ┆       ┆            │\n",
       "│ 46616543 ┆ wEuVhT9c      ┆ Gukesh D       ┆ 5.0   ┆ 8              ┆ 2743   ┆ GM    ┆ IND        │\n",
       "│ 2016192  ┆ wEuVhT9c      ┆ Nakamura,      ┆ 4.5   ┆ 8              ┆ 2789   ┆ GM    ┆ USA        │\n",
       "│          ┆               ┆ Hikaru         ┆       ┆                ┆        ┆       ┆            │\n",
       "│ 25059530 ┆ wEuVhT9c      ┆ Praggnanandhaa ┆ 4.5   ┆ 8              ┆ 2747   ┆ GM    ┆ IND        │\n",
       "│          ┆               ┆ R              ┆       ┆                ┆        ┆       ┆            │\n",
       "│ 2020009  ┆ wEuVhT9c      ┆ Caruana,       ┆ 4.0   ┆ 8              ┆ 2803   ┆ GM    ┆ USA        │\n",
       "│          ┆               ┆ Fabiano        ┆       ┆                ┆        ┆       ┆            │\n",
       "│ 5029465  ┆ wEuVhT9c      ┆ Vidit, Santosh ┆ 3.5   ┆ 8              ┆ 2727   ┆ GM    ┆ IND        │\n",
       "│          ┆               ┆ Gujrathi       ┆       ┆                ┆        ┆       ┆            │\n",
       "│ 12573981 ┆ wEuVhT9c      ┆ Firouzja,      ┆ 3.0   ┆ 8              ┆ 2760   ┆ GM    ┆ FRA        │\n",
       "│          ┆               ┆ Alireza        ┆       ┆                ┆        ┆       ┆            │\n",
       "│ 13402960 ┆ wEuVhT9c      ┆ Abasov, Nijat  ┆ 2.5   ┆ 8              ┆ 2632   ┆ GM    ┆ AZE        │\n",
       "└──────────┴───────────────┴────────────────┴───────┴────────────────┴────────┴───────┴────────────┘"
      ]
     },
     "execution_count": 11,
     "metadata": {},
     "output_type": "execute_result"
    }
   ],
   "source": [
    "lichess_leaderboard_df"
   ]
  },
  {
   "cell_type": "code",
   "execution_count": 9,
   "metadata": {},
   "outputs": [
    {
     "data": {
      "text/html": [
       "<div><style>\n",
       ".dataframe > thead > tr,\n",
       ".dataframe > tbody > tr {\n",
       "  text-align: right;\n",
       "  white-space: pre-wrap;\n",
       "}\n",
       "</style>\n",
       "<small>shape: (4, 7)</small><table border=\"1\" class=\"dataframe\"><thead><tr><th>game_id</th><th>tournament_id</th><th>round_id</th><th>fen</th><th>last_move</th><th>status</th><th>think_time</th></tr><tr><td>str</td><td>str</td><td>str</td><td>str</td><td>str</td><td>str</td><td>null</td></tr></thead><tbody><tr><td>&quot;MI1pR0AA&quot;</td><td>&quot;wEuVhT9c&quot;</td><td>&quot;MDiLWQ5M&quot;</td><td>&quot;5k2/1R6/1pr5/6…</td><td>&quot;a5a4&quot;</td><td>&quot;½-½&quot;</td><td>null</td></tr><tr><td>&quot;sX0yzYfd&quot;</td><td>&quot;wEuVhT9c&quot;</td><td>&quot;MDiLWQ5M&quot;</td><td>&quot;5R2/8/4k2p/p7/…</td><td>&quot;f5e6&quot;</td><td>&quot;0-1&quot;</td><td>null</td></tr><tr><td>&quot;Evh9eivY&quot;</td><td>&quot;wEuVhT9c&quot;</td><td>&quot;MDiLWQ5M&quot;</td><td>&quot;8/3q4/5K2/6Q1/…</td><td>&quot;e5g5&quot;</td><td>&quot;1-0&quot;</td><td>null</td></tr><tr><td>&quot;rPvG2O10&quot;</td><td>&quot;wEuVhT9c&quot;</td><td>&quot;MDiLWQ5M&quot;</td><td>&quot;4kr2/4bp2/2p3p…</td><td>&quot;d8e7&quot;</td><td>&quot;½-½&quot;</td><td>null</td></tr></tbody></table></div>"
      ],
      "text/plain": [
       "shape: (4, 7)\n",
       "┌──────────┬───────────────┬──────────┬──────────────────────────┬───────────┬────────┬────────────┐\n",
       "│ game_id  ┆ tournament_id ┆ round_id ┆ fen                      ┆ last_move ┆ status ┆ think_time │\n",
       "│ ---      ┆ ---           ┆ ---      ┆ ---                      ┆ ---       ┆ ---    ┆ ---        │\n",
       "│ str      ┆ str           ┆ str      ┆ str                      ┆ str       ┆ str    ┆ null       │\n",
       "╞══════════╪═══════════════╪══════════╪══════════════════════════╪═══════════╪════════╪════════════╡\n",
       "│ MI1pR0AA ┆ wEuVhT9c      ┆ MDiLWQ5M ┆ 5k2/1R6/1pr5/6p1/p5P1/6K ┆ a5a4      ┆ ½-½    ┆ null       │\n",
       "│          ┆               ┆          ┆ 1/P4P2/8…                ┆           ┆        ┆            │\n",
       "│ sX0yzYfd ┆ wEuVhT9c      ┆ MDiLWQ5M ┆ 5R2/8/4k2p/p7/P7/3K2pn/8 ┆ f5e6      ┆ 0-1    ┆ null       │\n",
       "│          ┆               ┆          ┆ /8 w - -…                ┆           ┆        ┆            │\n",
       "│ Evh9eivY ┆ wEuVhT9c      ┆ MDiLWQ5M ┆ 8/3q4/5K2/6Q1/4P2k/8/8/8 ┆ e5g5      ┆ 1-0    ┆ null       │\n",
       "│          ┆               ┆          ┆ b - - 1…                 ┆           ┆        ┆            │\n",
       "│ rPvG2O10 ┆ wEuVhT9c      ┆ MDiLWQ5M ┆ 4kr2/4bp2/2p3p1/1pP1Q3/q ┆ d8e7      ┆ ½-½    ┆ null       │\n",
       "│          ┆               ┆          ┆ 2BP1PP/8…                ┆           ┆        ┆            │\n",
       "└──────────┴───────────────┴──────────┴──────────────────────────┴───────────┴────────┴────────────┘"
      ]
     },
     "execution_count": 9,
     "metadata": {},
     "output_type": "execute_result"
    }
   ],
   "source": [
    "lichess_rounds_detail_df"
   ]
  },
  {
   "cell_type": "code",
   "execution_count": 13,
   "metadata": {},
   "outputs": [
    {
     "data": {
      "text/html": [
       "<div><style>\n",
       ".dataframe > thead > tr,\n",
       ".dataframe > tbody > tr {\n",
       "  text-align: right;\n",
       "  white-space: pre-wrap;\n",
       "}\n",
       "</style>\n",
       "<small>shape: (8, 6)</small><table border=\"1\" class=\"dataframe\"><thead><tr><th>name</th><th>game_id</th><th>tournament_id</th><th>round_id</th><th>title</th><th>color</th></tr><tr><td>str</td><td>str</td><td>str</td><td>str</td><td>str</td><td>str</td></tr></thead><tbody><tr><td>&quot;Praggnanandhaa…</td><td>&quot;MI1pR0AA&quot;</td><td>&quot;wEuVhT9c&quot;</td><td>&quot;MDiLWQ5M&quot;</td><td>&quot;GM&quot;</td><td>&quot;White&quot;</td></tr><tr><td>&quot;Nepomniachtchi…</td><td>&quot;MI1pR0AA&quot;</td><td>&quot;wEuVhT9c&quot;</td><td>&quot;MDiLWQ5M&quot;</td><td>&quot;GM&quot;</td><td>&quot;Black&quot;</td></tr><tr><td>&quot;Firouzja, Alir…</td><td>&quot;sX0yzYfd&quot;</td><td>&quot;wEuVhT9c&quot;</td><td>&quot;MDiLWQ5M&quot;</td><td>&quot;GM&quot;</td><td>&quot;White&quot;</td></tr><tr><td>&quot;Nakamura, Hika…</td><td>&quot;sX0yzYfd&quot;</td><td>&quot;wEuVhT9c&quot;</td><td>&quot;MDiLWQ5M&quot;</td><td>&quot;GM&quot;</td><td>&quot;Black&quot;</td></tr><tr><td>&quot;Gukesh D&quot;</td><td>&quot;Evh9eivY&quot;</td><td>&quot;wEuVhT9c&quot;</td><td>&quot;MDiLWQ5M&quot;</td><td>&quot;GM&quot;</td><td>&quot;White&quot;</td></tr><tr><td>&quot;Abasov, Nijat&quot;</td><td>&quot;Evh9eivY&quot;</td><td>&quot;wEuVhT9c&quot;</td><td>&quot;MDiLWQ5M&quot;</td><td>&quot;GM&quot;</td><td>&quot;Black&quot;</td></tr><tr><td>&quot;Vidit, Santosh…</td><td>&quot;rPvG2O10&quot;</td><td>&quot;wEuVhT9c&quot;</td><td>&quot;MDiLWQ5M&quot;</td><td>&quot;GM&quot;</td><td>&quot;White&quot;</td></tr><tr><td>&quot;Caruana, Fabia…</td><td>&quot;rPvG2O10&quot;</td><td>&quot;wEuVhT9c&quot;</td><td>&quot;MDiLWQ5M&quot;</td><td>&quot;GM&quot;</td><td>&quot;Black&quot;</td></tr></tbody></table></div>"
      ],
      "text/plain": [
       "shape: (8, 6)\n",
       "┌─────────────────────────┬──────────┬───────────────┬──────────┬───────┬───────┐\n",
       "│ name                    ┆ game_id  ┆ tournament_id ┆ round_id ┆ title ┆ color │\n",
       "│ ---                     ┆ ---      ┆ ---           ┆ ---      ┆ ---   ┆ ---   │\n",
       "│ str                     ┆ str      ┆ str           ┆ str      ┆ str   ┆ str   │\n",
       "╞═════════════════════════╪══════════╪═══════════════╪══════════╪═══════╪═══════╡\n",
       "│ Praggnanandhaa R        ┆ MI1pR0AA ┆ wEuVhT9c      ┆ MDiLWQ5M ┆ GM    ┆ White │\n",
       "│ Nepomniachtchi, Ian     ┆ MI1pR0AA ┆ wEuVhT9c      ┆ MDiLWQ5M ┆ GM    ┆ Black │\n",
       "│ Firouzja, Alireza       ┆ sX0yzYfd ┆ wEuVhT9c      ┆ MDiLWQ5M ┆ GM    ┆ White │\n",
       "│ Nakamura, Hikaru        ┆ sX0yzYfd ┆ wEuVhT9c      ┆ MDiLWQ5M ┆ GM    ┆ Black │\n",
       "│ Gukesh D                ┆ Evh9eivY ┆ wEuVhT9c      ┆ MDiLWQ5M ┆ GM    ┆ White │\n",
       "│ Abasov, Nijat           ┆ Evh9eivY ┆ wEuVhT9c      ┆ MDiLWQ5M ┆ GM    ┆ Black │\n",
       "│ Vidit, Santosh Gujrathi ┆ rPvG2O10 ┆ wEuVhT9c      ┆ MDiLWQ5M ┆ GM    ┆ White │\n",
       "│ Caruana, Fabiano        ┆ rPvG2O10 ┆ wEuVhT9c      ┆ MDiLWQ5M ┆ GM    ┆ Black │\n",
       "└─────────────────────────┴──────────┴───────────────┴──────────┴───────┴───────┘"
      ]
     },
     "execution_count": 13,
     "metadata": {},
     "output_type": "execute_result"
    }
   ],
   "source": [
    "lichess_players_df"
   ]
  },
  {
   "cell_type": "code",
   "execution_count": 13,
   "metadata": {},
   "outputs": [],
   "source": [
    "# tournament_helper.call_lichess_broadcasts_api(tournament_id, round_info=[\"japan-youth-chess-championship-2024\", \"round-1\", \"i0QWBTTi\"])"
   ]
  },
  {
   "cell_type": "code",
   "execution_count": null,
   "metadata": {},
   "outputs": [],
   "source": []
  },
  {
   "cell_type": "code",
   "execution_count": null,
   "metadata": {},
   "outputs": [],
   "source": []
  },
  {
   "cell_type": "code",
   "execution_count": null,
   "metadata": {},
   "outputs": [],
   "source": []
  },
  {
   "cell_type": "code",
   "execution_count": 50,
   "metadata": {},
   "outputs": [],
   "source": [
    "# import json\n",
    "# with open(f\"{tournament_id}_8.json\", \"w\") as f:\n",
    "#     json.dump(rounds_json, f)"
   ]
  },
  {
   "cell_type": "code",
   "execution_count": null,
   "metadata": {},
   "outputs": [],
   "source": []
  }
 ],
 "metadata": {
  "kernelspec": {
   "display_name": ".venv",
   "language": "python",
   "name": "python3"
  },
  "language_info": {
   "codemirror_mode": {
    "name": "ipython",
    "version": 3
   },
   "file_extension": ".py",
   "mimetype": "text/x-python",
   "name": "python",
   "nbconvert_exporter": "python",
   "pygments_lexer": "ipython3",
   "version": "3.11.0"
  }
 },
 "nbformat": 4,
 "nbformat_minor": 2
}
